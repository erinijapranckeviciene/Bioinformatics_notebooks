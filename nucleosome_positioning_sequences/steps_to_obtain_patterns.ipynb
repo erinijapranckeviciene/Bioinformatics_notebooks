{
 "cells": [
  {
   "cell_type": "markdown",
   "id": "3a383d8b-60a4-4009-9075-e1f8efc165f8",
   "metadata": {},
   "source": [
    "# Computational steps to extract nucleosome's DNA sequences and patterns"
   ]
  },
  {
   "cell_type": "markdown",
   "id": "cee5fd51-3e6a-4136-98b9-cc6a54713887",
   "metadata": {},
   "source": [
    "## Obtain DNA sequences from given genomic coordinates"
   ]
  },
  {
   "cell_type": "markdown",
   "id": "4c4e63a7-5d0c-4f49-b2cc-830c1e1dae3a",
   "metadata": {},
   "source": [
    "This section shows how to use bash commands and bedtools to obtain fasta file of nucleosome's DNA sequences from the file of their genomic coordinates. In this example source nucleosome file is in folder data under file name GSM3718063_HepG2_Male.nucleosome.peak.bed .\n",
    "\n",
    "Genome-wide the nucleosomes are very dense and represent all genome. To compute patterns in nucleosomes we need to select the well phased nucleosomes that are in the vicinity of gene transcription start sites. In this example annotation file is in folder data under file name gencode.v45lift37.basic.annotation.gtf . \n",
    "\n",
    "To obtain sequences from genomic coordinates we need a reference genome gh19. It can be downloaded from UCSC genome browser. Since nucleosome regions are only 140 bp long we need to add 30 bp from each end of the region. For this reason we will need chromosome sizes of the hg19 genome. \n",
    "\n",
    "To extract sequences we will need to index the reference genome. This is done only one time. "
   ]
  },
  {
   "cell_type": "code",
   "execution_count": 1,
   "id": "d47cb260-39be-4b3a-8c92-1caf40ef75a9",
   "metadata": {},
   "outputs": [
    {
     "name": "stdout",
     "output_type": "stream",
     "text": [
      "annot.bed\n",
      "annot.sorted.bed\n",
      "\u001b[0m\u001b[01;34mdata\u001b[0m\n",
      "\u001b[01;34mdnpatterntools\u001b[0m\n",
      "nuc.bed\n",
      "nuc.closest.bed\n",
      "nuc.closest.coord.bed\n",
      "nuc.closest.coord.extended.bed\n",
      "nuc.closest.fasta\n",
      "nuc.correlations.tabular\n",
      "\u001b[01;35mnuc.diprofiles.plot.png\u001b[0m\n",
      "nuc.diprofiles.selected.symmetrized.composite.smoothed.tabular\n",
      "nuc.diprofiles.selected.symmetrized.composite.tabular\n",
      "nuc.diprofiles.selected.symmetrized.tabular\n",
      "nuc.diprofiles.selected.tabular\n",
      "nuc.diprofiles.tabular\n",
      "nuc.sorted.bed\n",
      "\u001b[01;35msmoothed_composites_plot.png\u001b[0m\n",
      "\u001b[01;34msnap\u001b[0m\n",
      "steps_to_obtain_patterns.ipynb\n"
     ]
    }
   ],
   "source": [
    "# content of example folder with all necessary files\n",
    "ls"
   ]
  },
  {
   "cell_type": "code",
   "execution_count": 2,
   "id": "b83e3250-48bc-4b3d-91de-3bc45de5122e",
   "metadata": {},
   "outputs": [
    {
     "name": "stdout",
     "output_type": "stream",
     "text": [
      "gencode.v45lift37.basic.annotation.gtf     \u001b[0m\u001b[01;34mhg19\u001b[0m\n",
      "GSM3718063_HepG2_Male.nucleosome.peak.bed\n"
     ]
    }
   ],
   "source": [
    "ls data"
   ]
  },
  {
   "cell_type": "code",
   "execution_count": 4,
   "id": "f89b49e6-3eae-4945-a136-b4d5b33e763e",
   "metadata": {},
   "outputs": [],
   "source": [
    "# filter gene annotations and create a bed file\n",
    "cat  data/gencode.v45lift37.basic.annotation.gtf | grep \"protein_coding\" | grep -v CDS  | grep -v exon | grep -v intron  | grep -v UTR | grep -v transcript | cut -f2,3,6,8 --complement > annot.bed"
   ]
  },
  {
   "cell_type": "code",
   "execution_count": 3,
   "id": "f9d7666b-4ac2-4a4d-90c6-09d76a7e7eaf",
   "metadata": {},
   "outputs": [
    {
     "name": "stdout",
     "output_type": "stream",
     "text": [
      "chr1\t65419\t71585\t+\tgene_id \"ENSG00000186092.7_9\"; gene_type \"protein_coding\"; gene_name \"OR4F5\"; level 2; hgnc_id \"HGNC:14825\"; havana_gene \"OTTHUMG00000001094.4_9\"; remap_status \"full_contig\"; remap_num_mappings 1; remap_target_status \"overlap\";\n",
      "chr1\t134901\t139379\t-\tgene_id \"ENSG00000237683.5\"; gene_type \"protein_coding\"; gene_status \"KNOWN\"; gene_name \"AL627309.1\"; level 3; remap_substituted_missing_target \"V19\";\n",
      "chr1\t367640\t368634\t+\tgene_id \"ENSG00000235249.1\"; gene_type \"protein_coding\"; gene_status \"KNOWN\"; gene_name \"OR4F29\"; level 2; havana_gene \"OTTHUMG00000002860.1\"; remap_substituted_missing_target \"V19\";\n",
      "\n",
      "genes in annot.bed\n",
      "20173 annot.bed\n"
     ]
    }
   ],
   "source": [
    "# inspect the result and count how many genes\n",
    "head -n3 annot.bed\n",
    "echo \"\"\n",
    "echo \"genes in annot.bed\"\n",
    "wc -l annot.bed"
   ]
  },
  {
   "cell_type": "code",
   "execution_count": 11,
   "id": "c6ed9164-a934-4ddf-983f-00df49c29432",
   "metadata": {},
   "outputs": [
    {
     "name": "stdout",
     "output_type": "stream",
     "text": [
      "==> annot.sorted.bed <==\n",
      "chr1\t65419\t71585\t+\tgene_id \"ENSG00000186092.7_9\"; gene_type \"protein_coding\"; gene_name \"OR4F5\"; level 2; hgnc_id \"HGNC:14825\"; havana_gene \"OTTHUMG00000001094.4_9\"; remap_status \"full_contig\"; remap_num_mappings 1; remap_target_status \"overlap\";\n",
      "chr1\t134901\t139379\t-\tgene_id \"ENSG00000237683.5\"; gene_type \"protein_coding\"; gene_status \"KNOWN\"; gene_name \"AL627309.1\"; level 3; remap_substituted_missing_target \"V19\";\n",
      "chr1\t367640\t368634\t+\tgene_id \"ENSG00000235249.1\"; gene_type \"protein_coding\"; gene_status \"KNOWN\"; gene_name \"OR4F29\"; level 2; havana_gene \"OTTHUMG00000002860.1\"; remap_substituted_missing_target \"V19\";\n",
      "chr1\t621096\t622034\t-\tgene_id \"ENSG00000284662.2_8\"; gene_type \"protein_coding\"; gene_name \"OR4F16\"; level 2; hgnc_id \"HGNC:15079\"; havana_gene \"OTTHUMG00000002581.3_8\"; remap_status \"full_contig\"; remap_num_mappings 1; remap_target_status \"overlap\";\n",
      "chr1\t859303\t879955\t+\tgene_id \"ENSG00000187634.13_16\"; gene_type \"protein_coding\"; gene_name \"SAMD11\"; level 2; hgnc_id \"HGNC:28706\"; havana_gene \"OTTHUMG00000040719.11_16\"; remap_status \"full_contig\"; remap_num_mappings 1; remap_target_status \"overlap\";\n",
      "chr1\t879583\t894689\t-\tgene_id \"ENSG00000188976.11_8\"; gene_type \"protein_coding\"; gene_name \"NOC2L\"; level 2; hgnc_id \"HGNC:24517\"; havana_gene \"OTTHUMG00000040720.2_8\"; remap_status \"full_contig\"; remap_num_mappings 1; remap_target_status \"overlap\";\n",
      "chr1\t895964\t901099\t+\tgene_id \"ENSG00000187961.15_9\"; gene_type \"protein_coding\"; gene_name \"KLHL17\"; level 2; hgnc_id \"HGNC:24023\"; havana_gene \"OTTHUMG00000040721.8_9\"; remap_status \"full_contig\"; remap_num_mappings 1; remap_target_status \"overlap\";\n",
      "chr1\t901862\t911245\t+\tgene_id \"ENSG00000187583.11_13\"; gene_type \"protein_coding\"; gene_name \"PLEKHN1\"; level 2; hgnc_id \"HGNC:25284\"; havana_gene \"OTTHUMG00000040756.5_13\"; remap_status \"full_contig\"; remap_num_mappings 1; remap_target_status \"overlap\";\n",
      "chr1\t910578\t917497\t-\tgene_id \"ENSG00000187642.10_13\"; gene_type \"protein_coding\"; gene_name \"PERM1\"; level 2; hgnc_id \"HGNC:28208\"; havana_gene \"OTTHUMG00000040757.3_13\"; remap_status \"full_contig\"; remap_num_mappings 1; remap_target_status \"overlap\";\n",
      "chr1\t934342\t935552\t-\tgene_id \"ENSG00000188290.11_13\"; gene_type \"protein_coding\"; gene_name \"HES4\"; level 2; hgnc_id \"HGNC:24149\"; havana_gene \"OTTHUMG00000040758.2_13\"; remap_status \"full_contig\"; remap_num_mappings 1; remap_target_status \"overlap\";\n",
      "\n",
      "==> nuc.sorted.bed <==\n",
      "chr1\t10076\t10216\tchr1_1\n",
      "chr1\t10206\t10346\tchr1_2\n",
      "chr1\t10321\t10461\tchr1_3\n",
      "chr1\t12961\t13101\tchr1_4\n",
      "chr1\t13431\t13571\tchr1_5\n",
      "chr1\t14861\t15001\tchr1_6\n",
      "chr1\t15141\t15281\tchr1_7\n",
      "chr1\t16146\t16286\tchr1_8\n",
      "chr1\t16361\t16501\tchr1_9\n",
      "chr1\t17406\t17546\tchr1_10\n"
     ]
    }
   ],
   "source": [
    "# in order to find closest nucleosome regions to genes both files must be sorted\n",
    "# bedtools sorting does not sort properly, we use a simple sort\n",
    "sort -k1,1 -k2,2n annot.bed > annot.sorted.bed\n",
    "sort -k1,1 -k2,2n data/GSM3718063_HepG2_Male.nucleosome.peak.bed > nuc.sorted.bed\n",
    "\n",
    "# inspect the result\n",
    "head *.sorted.bed"
   ]
  },
  {
   "cell_type": "code",
   "execution_count": 12,
   "id": "d9626f60-180a-4764-8435-e2b068531219",
   "metadata": {},
   "outputs": [
    {
     "name": "stdout",
     "output_type": "stream",
     "text": [
      "chr1\t65419\t71585\t+\tgene_id \"ENSG00000186092.7_9\"; gene_type \"protein_coding\"; gene_name \"OR4F5\"; level 2; hgnc_id \"HGNC:14825\"; havana_gene \"OTTHUMG00000001094.4_9\"; remap_status \"full_contig\"; remap_num_mappings 1; remap_target_status \"overlap\";\tchr1\t64786\t64926\tchr1_35\t494\n",
      "chr1\t134901\t139379\t-\tgene_id \"ENSG00000237683.5\"; gene_type \"protein_coding\"; gene_status \"KNOWN\"; gene_name \"AL627309.1\"; level 3; remap_substituted_missing_target \"V19\";\tchr1\t139426\t139566\tchr1_77\t48\n",
      "chr1\t367640\t368634\t+\tgene_id \"ENSG00000235249.1\"; gene_type \"protein_coding\"; gene_status \"KNOWN\"; gene_name \"OR4F29\"; level 2; havana_gene \"OTTHUMG00000002860.1\"; remap_substituted_missing_target \"V19\";\tchr1\t457454\t457594\tchr1_149\t88821\n"
     ]
    }
   ],
   "source": [
    "# find closest nucleosome to the gene\n",
    "bedtools closest -d -io -b nuc.sorted.bed -a annot.sorted.bed > nuc.closest.bed\n",
    "head -n3 nuc.closest.bed"
   ]
  },
  {
   "cell_type": "code",
   "execution_count": 13,
   "id": "9502af08-e72d-408c-bc2e-ca084502791a",
   "metadata": {},
   "outputs": [
    {
     "name": "stdout",
     "output_type": "stream",
     "text": [
      "     1\tchr1\n",
      "     2\t65419\n",
      "     3\t71585\n",
      "     4\t+\n",
      "     5\tgene_id \"ENSG00000186092.7_9\"; gene_type \"protein_coding\"; gene_name \"OR4F5\"; level 2; hgnc_id \"HGNC:14825\"; havana_gene \"OTTHUMG00000001094.4_9\"; remap_status \"full_contig\"; remap_num_mappings 1; remap_target_status \"overlap\";\n",
      "     6\tchr1\n",
      "     7\t64786\n",
      "     8\t64926\n",
      "     9\tchr1_35\n",
      "    10\t494\n"
     ]
    }
   ],
   "source": [
    "head -n1  nuc.closest.bed | datamash transpose | cat -n"
   ]
  },
  {
   "cell_type": "code",
   "execution_count": 16,
   "id": "f27319af-9118-4587-8a00-46b42ef03d84",
   "metadata": {},
   "outputs": [
    {
     "name": "stdout",
     "output_type": "stream",
     "text": [
      "chr1\t64786\t64926\tchr1_35\n",
      "chr1\t139426\t139566\tchr1_77\n",
      "chr1\t457454\t457594\tchr1_149\n"
     ]
    }
   ],
   "source": [
    "# select only nucleosome cordinates\n",
    "cut -f6-9 nuc.closest.bed > nuc.closest.coord.bed\n",
    "head -n3 nuc.closest.coord.bed"
   ]
  },
  {
   "cell_type": "code",
   "execution_count": 19,
   "id": "8b86699f-4377-4113-bfbc-32a28c420fef",
   "metadata": {},
   "outputs": [],
   "source": [
    "# prepare genome size data\n",
    "mysql --user=genome --host=genome-mysql.cse.ucsc.edu -A -e \"select chrom, size from hg19.chromInfo\"  > data/hg19/hg19.genome"
   ]
  },
  {
   "cell_type": "code",
   "execution_count": 20,
   "id": "957827c9-db23-4c42-91d2-4183691066df",
   "metadata": {},
   "outputs": [],
   "source": [
    "# index genome with samtools \n",
    "samtools faidx data/hg19/hg19.fa"
   ]
  },
  {
   "cell_type": "code",
   "execution_count": 21,
   "id": "920812d9-5fd9-436d-bde0-382abcddaf21",
   "metadata": {},
   "outputs": [],
   "source": [
    "#extend nucleosome coordinates \n",
    "bedtools slop -i nuc.closest.coord.bed -g data/hg19/hg19.genome -b 30 > nuc.closest.coord.extended.bed"
   ]
  },
  {
   "cell_type": "code",
   "execution_count": 22,
   "id": "743f71b0-f808-40c1-81c3-c3697fbf2080",
   "metadata": {},
   "outputs": [
    {
     "name": "stdout",
     "output_type": "stream",
     "text": [
      "==> nuc.closest.coord.bed <==\n",
      "chr1\t64786\t64926\tchr1_35\n",
      "chr1\t139426\t139566\tchr1_77\n",
      "chr1\t457454\t457594\tchr1_149\n",
      "\n",
      "==> nuc.closest.coord.extended.bed <==\n",
      "chr1\t64756\t64956\tchr1_35\n",
      "chr1\t139396\t139596\tchr1_77\n",
      "chr1\t457424\t457624\tchr1_149\n"
     ]
    }
   ],
   "source": [
    "head -n3 nuc.closest.coord*bed"
   ]
  },
  {
   "cell_type": "code",
   "execution_count": 23,
   "id": "9fb79f8a-0cbe-4522-947c-40c75233cbfe",
   "metadata": {},
   "outputs": [
    {
     "name": "stdout",
     "output_type": "stream",
     "text": [
      ">chr1_35::chr1:64756-64956\n",
      "CATTTCTCGAGTCACTCTTAAAAAGCATCTACAACCTAAAAGTATAGGAAGAGATTTATTTCCTGGAGAAGAGACCCCATTGAGATCTTAAAAGCACATTTAATGTGCCTGTGCTTAACTTAAGGTGCTTAGGACAAAGAAGGCGATTGACATCTTTCAGGTAAAACCTGGTAAGTTTGGTGGTCAAGGAACACAACTGA\n",
      ">chr1_77::chr1:139396-139596\n",
      "CCAAGATGCAGGAGCTGGGCCTGGAGAGGCTGCAAAGAAGCATGAGCTGGGCCTGGTGAGGTCAACTTGAGAAAGTTCAGGGCCTGGAGAGAAGGCTGGGAGGCAGGAGCTGGGTCTAAAGAGGCCATTGTAACGATGGAGCTGTGCCTGTGGAGGCTGTTGTGAGGCAGTAGCCTCATCTGCGGAGGCTGCCGTGACGT\n"
     ]
    }
   ],
   "source": [
    "# extract fasta sequences\n",
    "bedtools getfasta -name -fi data/hg19/hg19.fa -bed nuc.closest.coord.extended.bed > nuc.closest.fasta\n",
    "head -n4 nuc.closest.fasta"
   ]
  },
  {
   "cell_type": "markdown",
   "id": "45b12329-367f-4436-875c-98dcda0b3971",
   "metadata": {},
   "source": [
    "## Obtain patterns with dnpatterntools"
   ]
  },
  {
   "cell_type": "markdown",
   "id": "f4a2263c-b340-4691-9f9c-96ea8aec76f7",
   "metadata": {},
   "source": [
    "Clone dnpatterntools to the local directory. Do it only once. Export the path to the binary dnpatterntools commands. Use the shell tools following the sequence below.  "
   ]
  },
  {
   "cell_type": "code",
   "execution_count": 24,
   "id": "47c19838-001e-4278-8483-da22cbc2902d",
   "metadata": {},
   "outputs": [
    {
     "name": "stdout",
     "output_type": "stream",
     "text": [
      "Cloning into 'dnpatterntools'...\n",
      "remote: Enumerating objects: 1606, done.\u001b[K\n",
      "remote: Counting objects: 100% (138/138), done.\u001b[K\n",
      "remote: Compressing objects: 100% (109/109), done.\u001b[K\n",
      "remote: Total 1606 (delta 69), reused 78 (delta 27), pack-reused 1468\u001b[K\n",
      "Receiving objects: 100% (1606/1606), 287.15 MiB | 6.07 MiB/s, done.\n",
      "Resolving deltas: 100% (585/585), done.\n",
      "Updating files: 100% (325/325), done.\n"
     ]
    }
   ],
   "source": [
    "# do this only one time\n",
    "git clone https://github.com/erinijapranckeviciene/dnpatterntools.git"
   ]
  },
  {
   "cell_type": "code",
   "execution_count": 25,
   "id": "4514b683-6aa3-4145-bebb-13e999abeb41",
   "metadata": {},
   "outputs": [
    {
     "name": "stdout",
     "output_type": "stream",
     "text": [
      "\u001b[0m\u001b[01;34mbin\u001b[0m                  \u001b[01;34mmouse-fasta\u001b[0m  \u001b[01;34mtest\u001b[0m         \u001b[01;35mworkflow-to-compute-patterns.jpg\u001b[0m\n",
      "\u001b[01;34mdocker\u001b[0m               \u001b[01;34mperiods\u001b[0m      \u001b[01;34mtools\u001b[0m\n",
      "galaxy-workflow.pdf  README.rst   \u001b[01;34mtools-extra\u001b[0m\n",
      "\u001b[01;34mmapping\u001b[0m              \u001b[01;34msource\u001b[0m       tutorial.md\n"
     ]
    }
   ],
   "source": [
    "ls dnpatterntools"
   ]
  },
  {
   "cell_type": "code",
   "execution_count": 26,
   "id": "e4637bdb-456c-40dd-9ec0-4ab63f69b316",
   "metadata": {},
   "outputs": [
    {
     "name": "stdout",
     "output_type": "stream",
     "text": [
      "\u001b[0m\u001b[01;32mdnp-binstrings\u001b[0m  \u001b[01;32mdnp-corrprofile\u001b[0m  \u001b[01;32mdnp-diprofile\u001b[0m  \u001b[01;32mdnp-fourier\u001b[0m\n"
     ]
    }
   ],
   "source": [
    "ls dnpatterntools/bin"
   ]
  },
  {
   "cell_type": "code",
   "execution_count": 27,
   "id": "5170709b-09c0-41fb-bf5e-d25ec4df1f49",
   "metadata": {},
   "outputs": [],
   "source": [
    "# export bin path , to make it a permanent setting consider including the export command in .bashrc\n",
    "export PATH=/home/erinija/dnpatterntools/bin:$PATH"
   ]
  },
  {
   "cell_type": "code",
   "execution_count": 28,
   "id": "dc9a3083-08c5-447c-9c2c-1c99643b28ec",
   "metadata": {},
   "outputs": [
    {
     "name": "stdout",
     "output_type": "stream",
     "text": [
      "\u001b[0m\u001b[01;32mdnp-binary-strings.sh\u001b[0m                 dnp_subset_dinuc_profile.xml\n",
      "dnp_binary_strings.xml                \u001b[01;32mdnp-symmetrize.sh\u001b[0m\n",
      "\u001b[01;32mdnp-compute-composite.sh\u001b[0m              dnp_symmetrize.xml\n",
      "dnp_compute_composite.xml             plotdata.gpl\n",
      "\u001b[01;32mdnp-correlation-between-profiles.sh\u001b[0m   \u001b[01;32mplot_selected.sh\u001b[0m\n",
      "dnp_correlation_between_profiles.xml  plot_selected.xml\n",
      "\u001b[01;32mdnp-fourier-transform.sh\u001b[0m              \u001b[01;32mshuffle_sequences.sh\u001b[0m\n",
      "dnp_fourier_transform.xml             shuffle_sequences.xml\n",
      "\u001b[01;32mdnp-select-range.sh\u001b[0m                   \u001b[01;34mstatic\u001b[0m\n",
      "dnp_select_range.xml                  \u001b[01;34mtest-data\u001b[0m\n",
      "\u001b[01;32mdnp-smooth.sh\u001b[0m                         tool_test_output.html\n",
      "dnp_smooth.xml                        tool_test_output.json\n",
      "\u001b[01;32mdnp-subset-dinuc-profile.sh\u001b[0m\n"
     ]
    }
   ],
   "source": [
    "# the pattern extraction tools are in folder tools\n",
    "ls dnpatterntools/tools"
   ]
  },
  {
   "cell_type": "code",
   "execution_count": 30,
   "id": "f305344e-57b5-4f06-9f9a-1eb3dbdec32c",
   "metadata": {},
   "outputs": [
    {
     "name": "stdout",
     "output_type": "stream",
     "text": [
      " CALL \n",
      "   sh subset_dinuc_profile.sh input.fasta  dinucleotides output\n",
      "\n",
      " INPUT\n",
      "   input.fasta - a batch of nucleosome (or any DNA) DNA sequences \n",
      "   dinucleotides - any subset of dinucleotides enclosed by quotes as 'AA AC AG AT CA CC' \n",
      "\n",
      " OUTPUT\n",
      "   output - file name to write the output  in tabular format, columns have names as AA.f AA.r ...\n",
      "\n",
      " DESCRIPTION\n",
      "   Compute dinucleotide frequency profiles on forward and its complementary \n",
      "   sequences from a batch of fasta sequences. Output columns are labelled by AA.f, AA.r ... \n",
      "\n",
      " Example of input fasta lines\n",
      "  >chr9:42475963-42476182\n",
      "  CCAGGCAGACCCCATATTCAAGCTGCTGCCCCAGGGTGGTGTACAGATCTGGGGAGAAGAAGGATGA\n",
      "  >chr9:42476175-42476394\n",
      "  TCTGCACTCCAGCATGCCTGAGGAGAGGAGGGAATGCAGGATCCTAGTGGAAAGAGTACCAAGCTGG\n",
      "\n",
      " Example of output  table\n",
      "  AA.f            AA.r            AC.f            AC.r   ...\n",
      "  0.076000        0.059000        0.065000        0.078000 ...\n",
      "  0.082000        0.060000        0.057000        0.076000 ...\n",
      "  0.067000        0.075000        0.049000        0.071000 ...\n",
      "\n",
      "\n",
      " REQUIREMENT\n",
      "   dnp-diprofile installed\n",
      "   conda install -c bioconda dnp-diprofile\n"
     ]
    }
   ],
   "source": [
    "# each sh script has help. Execute the dnp-subset-dinuc-profile.sh to see help\n",
    "sh dnpatterntools/tools/dnp-subset-dinuc-profile.sh"
   ]
  },
  {
   "cell_type": "markdown",
   "id": "ebf94a66-bd5c-4c53-96b4-aa5bb42e718b",
   "metadata": {},
   "source": [
    "### Step 1. Compute all dinucleotide frequency profiles from fasta file "
   ]
  },
  {
   "cell_type": "markdown",
   "id": "49565653-510e-4517-b8e7-4de323d7d457",
   "metadata": {},
   "source": [
    "#### Important ! output of each operation must be saved to the file. "
   ]
  },
  {
   "cell_type": "code",
   "execution_count": 31,
   "id": "2963b1af-9aaa-4b59-88b0-ca3be9d00021",
   "metadata": {},
   "outputs": [
    {
     "name": "stdout",
     "output_type": "stream",
     "text": [
      "nuc.closest.fasta\n"
     ]
    }
   ],
   "source": [
    "ls *.fasta"
   ]
  },
  {
   "cell_type": "code",
   "execution_count": 33,
   "id": "6621a851-c88d-470b-9303-a09e1d48bd64",
   "metadata": {},
   "outputs": [
    {
     "name": "stdout",
     "output_type": "stream",
     "text": [
      "  20234   20234  771043\n"
     ]
    }
   ],
   "source": [
    "# how many fasta sequences\n",
    "grep ^\">\" nuc.closest.fasta | wc"
   ]
  },
  {
   "cell_type": "code",
   "execution_count": 32,
   "id": "3b354e88-438b-442e-9365-13ed9789b329",
   "metadata": {},
   "outputs": [
    {
     "name": "stdout",
     "output_type": "stream",
     "text": [
      "AA.f\tAA.r\tAC.f\tAC.r\tAG.f\tAG.r\tAT.f\tAT.r\tCA.f\tCA.r\tCC.f\tCC.r\tCG.f\tCG.r\tCT.f\tCT.r\tGA.f\tGA.r\tGC.f\tGC.r\tGG.f\tGG.r\tGT.f\tGT.r\tTA.f\tTA.r\tTC.f\tTC.r\tTG.f\tTG.r\tTT.f\tTT.r\n",
      "0.090936\t0.079075\t0.049274\t0.069932\t0.073391\t0.056242\t0.064100\t0.052189\t0.067757\t0.051003\t0.065039\t0.070723\t0.023821\t0.056736\t0.070871\t0.058911\t0.058911\t0.070871\t0.056736\t0.023821\t0.070723\t0.065039\t0.051003\t0.067757\t0.052189\t0.064100\t0.056242\t0.073391\t0.069932\t0.049274\t0.079075\t0.090936\n",
      "0.087131\t0.083276\t0.050608\t0.073886\t0.072798\t0.055155\t0.059257\t0.052733\t0.068746\t0.052782\t0.064792\t0.072650\t0.024167\t0.055748\t0.069586\t0.056687\t0.056687\t0.069586\t0.055748\t0.024167\t0.072650\t0.064792\t0.052782\t0.068746\t0.052733\t0.059257\t0.055155\t0.072798\t0.073886\t0.050608\t0.083276\t0.087131\n"
     ]
    }
   ],
   "source": [
    "sh dnpatterntools/tools/dnp-subset-dinuc-profile.sh nuc.closest.fasta 'AA AC AG AT CA CC CG CT GA GC GG GT TA TC TG TT' nuc.diprofiles.tabular\n",
    "head -n3 nuc.diprofiles.tabular"
   ]
  },
  {
   "cell_type": "code",
   "execution_count": 37,
   "id": "7b9b9b30-9371-43ee-95a9-be089d3cbf3d",
   "metadata": {},
   "outputs": [],
   "source": [
    "# plot profiles to inspect\n",
    "sh dnpatterntools/tools/plot_selected.sh nuc.diprofiles.tabular nuc.diprofiles.plot.png 'Dinucleotide frequency profiles' 1,2,3,4,5,7,8  "
   ]
  },
  {
   "cell_type": "code",
   "execution_count": 39,
   "id": "85e95fe0-18c9-488b-ba59-8907fa93f3f3",
   "metadata": {},
   "outputs": [],
   "source": [
    "#open this graph from jupyter ho nuc.diprofiles.plot.png"
   ]
  },
  {
   "cell_type": "markdown",
   "id": "a728d58b-b2de-453a-9d09-ffd43fc74a2f",
   "metadata": {},
   "source": [
    "### Step 2. Find a most likely region of nucleosome based on correlations between forward and reverse strands"
   ]
  },
  {
   "cell_type": "code",
   "execution_count": 34,
   "id": "99c85714-b3f7-4adf-855c-5665b627f7c5",
   "metadata": {},
   "outputs": [
    {
     "name": "stdout",
     "output_type": "stream",
     "text": [
      "AA 25 0.841904,AC 29 0.336924,AG 26 0.499847,AT 25 0.749307,CA 2 0.388337,CC 24 0.891367,CG 26 0.658095,CT 25 0.57385,GA 25 0.57385,GC 26 0.658095,GG 24 0.891367,GT 2 0.388337,TA 25 0.749307,TC 26 0.499847,TG 29 0.336924,TT 25 0.841904,avg  24 0.57359,\n"
     ]
    }
   ],
   "source": [
    "### Step 2. Find a most likely region of nucleosome based on correlations between forward and reverse strands\n",
    "sh dnpatterntools/tools/dnp-correlation-between-profiles.sh nuc.diprofiles.tabular 146 'AA AC AG AT CA CC CG CT GA GC GG GT TA TC TG TT' nuc.correlations.tabular"
   ]
  },
  {
   "cell_type": "markdown",
   "id": "a520dcd7-0a3c-4cd6-aeaa-5c9b569019ad",
   "metadata": {},
   "source": [
    "#### This step shows that the most likely position for nucleosome start is perhaps position 25 based on very high correlations of AA and TT "
   ]
  },
  {
   "cell_type": "markdown",
   "id": "b6b0c7e7-fe96-4a2b-9f15-371895482536",
   "metadata": {},
   "source": [
    "### Step 3. Select the region for further analysis "
   ]
  },
  {
   "cell_type": "code",
   "execution_count": 4,
   "id": "c7889a60-5392-4183-a6b0-3ec370825ff1",
   "metadata": {},
   "outputs": [
    {
     "name": "stdout",
     "output_type": "stream",
     "text": [
      "pos\tAA.f\tAC.f\tAG.f\tAT.f\tCA.f\tCC.f\tCG.f\tCT.f\tGA.f\tGC.f\tGG.f\tGT.f\tTA.f\tTC.f\tTG.f\tTT.f\tAA.r\tAC.r\tAG.r\tAT.r\tCA.r\tCC.r\tCG.r\tCT.r\tGA.r\tGC.r\tGG.r\tGT.r\tTA.r\tTC.r\tTG.r\tTT.r\n",
      "25\t0.084017\t0.048483\t0.071662\t0.056044\t0.067955\t0.066027\t0.023327\t0.070129\t0.058219\t0.060542\t0.075072\t0.052684\t0.052091\t0.058565\t0.070821\t0.084363\t0.084363\t0.070821\t0.058565\t0.052091\t0.052684\t0.075072\t0.060542\t0.058219\t0.070129\t0.023327\t0.066027\t0.067955\t0.056044\t0.071662\t0.048483\t0.084017\n",
      "26\t0.083424\t0.045221\t0.076258\t0.057379\t0.070673\t0.069586\t0.022635\t0.070723\t0.060245\t0.056193\t0.073984\t0.050460\t0.052684\t0.055748\t0.070475\t0.084314\t0.084314\t0.070475\t0.055748\t0.052684\t0.050460\t0.073984\t0.056193\t0.060245\t0.070723\t0.022635\t0.069586\t0.070673\t0.057379\t0.076258\t0.045221\t0.083424\n"
     ]
    }
   ],
   "source": [
    "sh dnpatterntools/tools/dnp-select-range.sh nuc.diprofiles.tabular 25 146 'AA AC AG AT CA CC CG CT GA GC GG GT TA TC TG TT' nuc.diprofiles.selected.tabular\n",
    "head -n3 nuc.diprofiles.selected.tabular"
   ]
  },
  {
   "cell_type": "markdown",
   "id": "60d6a091-25e5-45d7-ad93-5178af7930e7",
   "metadata": {},
   "source": [
    "### Step 4. Symmetrize the selected region "
   ]
  },
  {
   "cell_type": "code",
   "execution_count": 7,
   "id": "0b08de24-0e0d-40c3-8942-cae4f8450191",
   "metadata": {},
   "outputs": [
    {
     "name": "stdout",
     "output_type": "stream",
     "text": [
      "pos\tAA\tAC\tAG\tAT\tCA\tCC\tCG\tCT\tGA\tGC\tGG\tGT\tTA\tTC\tTG\tTT\n",
      "-73\t0.0803105\t0.059232\t0.0656075\t0.054339\t0.058985\t0.0666945\t0.0408965\t0.064001\t0.065039\t0.0415145\t0.07354\t0.0627165\t0.055155\t0.0670655\t0.061332\t0.083572\n",
      "-72\t0.0806315\t0.0572055\t0.0684985\t0.0543145\t0.0602945\t0.0697095\t0.0377335\t0.065138\t0.066645\t0.0400815\t0.0734405\t0.0622965\t0.055328\t0.0632355\t0.0615545\t0.0838935\n"
     ]
    }
   ],
   "source": [
    "sh dnpatterntools/tools/dnp-symmetrize.sh nuc.diprofiles.selected.tabular nuc.diprofiles.selected.symmetrized.tabular\n",
    "head -n3 nuc.diprofiles.selected.symmetrized.tabular"
   ]
  },
  {
   "cell_type": "markdown",
   "id": "71608862-1d50-4b9c-ae00-ee65488f799f",
   "metadata": {},
   "source": [
    "### Step 5. Compute composites"
   ]
  },
  {
   "cell_type": "code",
   "execution_count": 10,
   "id": "02100bf3-42f3-445a-bb81-56e0e210189d",
   "metadata": {},
   "outputs": [
    {
     "name": "stdout",
     "output_type": "stream",
     "text": [
      "pos\tAA\tAC\tAG\tAT\tCA\tCC\tCG\tCT\tGA\tGC\tGG\tGT\tTA\tTC\tTG\tTT\tWW\tSS\tRR\tYY\n",
      "-73\t0.0803105\t0.059232\t0.0656075\t0.054339\t0.058985\t0.0666945\t0.0408965\t0.064001\t0.065039\t0.0415145\t0.07354\t0.0627165\t0.055155\t0.0670655\t0.061332\t0.083572\t0.273377\t0.222645\t0.284497\t0.281333\n",
      "-72\t0.0806315\t0.0572055\t0.0684985\t0.0543145\t0.0602945\t0.0697095\t0.0377335\t0.065138\t0.066645\t0.0400815\t0.0734405\t0.0622965\t0.055328\t0.0632355\t0.0615545\t0.0838935\t0.274168\t0.220965\t0.289216\t0.281977\n"
     ]
    }
   ],
   "source": [
    "sh dnpatterntools/tools/dnp-compute-composite.sh nuc.diprofiles.selected.symmetrized.tabular nuc.diprofiles.selected.symmetrized.composite.tabular\n",
    "head -n3 nuc.diprofiles.selected.symmetrized.composite.tabular"
   ]
  },
  {
   "cell_type": "markdown",
   "id": "eb74207f-02a2-4912-b90f-92561ebc353a",
   "metadata": {},
   "source": [
    "### Step 6. Smooth the profiles, this is our pattern's file"
   ]
  },
  {
   "cell_type": "code",
   "execution_count": 12,
   "id": "c48dd369-ea90-4273-ada6-bd551f886ede",
   "metadata": {},
   "outputs": [
    {
     "name": "stdout",
     "output_type": "stream",
     "text": [
      "pos\tAA\tAC\tAG\tAT\tCA\tCC\tCG\tCT\tGA\tGC\tGG\tGT\tRR\tSS\tTA\tTC\tTG\tTT\tWW\tYY\n",
      "-68\t0.077485\t0.057247\t0.068276\t0.053260\t0.058202\t0.068878\t0.039900\t0.065418\t0.066225\t0.039175\t0.077049\t0.063532\t0.289035\t0.225001\t0.053730\t0.066316\t0.062057\t0.083251\t0.267726\t0.283862\n",
      "-67\t0.076859\t0.057651\t0.067807\t0.053161\t0.057996\t0.068301\t0.040600\t0.065665\t0.066999\t0.039389\t0.076958\t0.063771\t0.288623\t0.225248\t0.052774\t0.066118\t0.063202\t0.082748\t0.265543\t0.282833\n"
     ]
    }
   ],
   "source": [
    "sh dnpatterntools/tools/dnp-smooth.sh nuc.diprofiles.selected.symmetrized.composite.tabular 3 4 nuc.diprofiles.selected.symmetrized.composite.smoothed.tabular\n",
    "head -n3 nuc.diprofiles.selected.symmetrized.composite.smoothed.tabular"
   ]
  },
  {
   "cell_type": "code",
   "execution_count": 13,
   "id": "7c414959-8d9a-4396-ba86-1c16a807428a",
   "metadata": {},
   "outputs": [
    {
     "name": "stdout",
     "output_type": "stream",
     "text": [
      "     1\tpos\n",
      "     2\tAA\n",
      "     3\tAC\n",
      "     4\tAG\n",
      "     5\tAT\n",
      "     6\tCA\n",
      "     7\tCC\n",
      "     8\tCG\n",
      "     9\tCT\n",
      "    10\tGA\n",
      "    11\tGC\n",
      "    12\tGG\n",
      "    13\tGT\n",
      "    14\tRR\n",
      "    15\tSS\n",
      "    16\tTA\n",
      "    17\tTC\n",
      "    18\tTG\n",
      "    19\tTT\n",
      "    20\tWW\n",
      "    21\tYY\n"
     ]
    }
   ],
   "source": [
    "head -n1 nuc.diprofiles.selected.symmetrized.composite.smoothed.tabular | datamash transpose | cat -n "
   ]
  },
  {
   "cell_type": "markdown",
   "id": "8273b948-15b7-4b64-85e2-8c8a22f8d63b",
   "metadata": {},
   "source": [
    "### Step 7. Plot the smoothed composite profiles"
   ]
  },
  {
   "cell_type": "markdown",
   "id": "2a21ed22-c2f8-4345-beed-c7a5f5222e94",
   "metadata": {},
   "source": [
    "The smoothed file contains representation of the profiles. These profiles most likely are final. However, after visual inspection we may need to adjust a nucleosomes selected region by few bases. We did not have a cleavage site to guide the start position. Plot the columns of the composites. "
   ]
  },
  {
   "cell_type": "code",
   "execution_count": 6,
   "id": "0b7afd78-bed9-47fc-ac07-c585264b2deb",
   "metadata": {},
   "outputs": [],
   "source": [
    "# inspect the plot fron the jupyter home page\n",
    "sh dnpatterntools/tools/plot_selected.sh nuc.diprofiles.selected.symmetrized.composite.smoothed.tabular smoothed_composites_plot.png 'Composite dinucleotide profiles' 14,15,20,21,9,19 "
   ]
  },
  {
   "attachments": {
    "52a4f1e7-e25a-4a29-93ad-497d739ed8e4.png": {
     "image/png": "[encoded data removed]"
    }
   },
   "cell_type": "markdown",
   "id": "5f2190bc-0db5-463d-b946-a3a25088c2de",
   "metadata": {},
   "source": [
    "Composites plot \n",
    "![image.png](attachment:52a4f1e7-e25a-4a29-93ad-497d739ed8e4.png)\n"
   ]
  }
 ],
 "metadata": {
  "kernelspec": {
   "display_name": "Bash",
   "language": "bash",
   "name": "bash"
  },
  "language_info": {
   "codemirror_mode": "shell",
   "file_extension": ".sh",
   "mimetype": "text/x-sh",
   "name": "bash"
  }
 },
 "nbformat": 4,
 "nbformat_minor": 5
}
