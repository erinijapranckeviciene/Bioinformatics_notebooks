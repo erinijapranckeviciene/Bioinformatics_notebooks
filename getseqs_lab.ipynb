{
  "cells": [
    {
      "cell_type": "markdown",
      "metadata": {
        "id": "view-in-github",
        "colab_type": "text"
      },
      "source": [
        "<a href=\"https://colab.research.google.com/github/erinijapranckeviciene/Bioinformatics_notebooks/blob/main/getseqs_lab.ipynb\" target=\"_parent\"><img src=\"https://colab.research.google.com/assets/colab-badge.svg\" alt=\"Open In Colab\"/></a>"
      ]
    },
    {
      "cell_type": "markdown",
      "metadata": {
        "id": "BnbI99IUbkRL"
      },
      "source": [
        "# Precomputed lab guide of your hands-on practice  \n",
        "\n",
        "These exercises aim at providing understanding how to access the NCBI databases through the command line and perform meaningful sequence analysis using BLAST.\n",
        "\n",
        "# While performing this exercise please take note of:\n",
        "1. Programs from the BLAST suite required to download the database and to obtain information about the databases\n",
        "2. Consult the parameters of blastn program to understand how to control, format and and minimize the amount of alignments in BLAST output.\n",
        "3. Understand that the same read can match sequences of multiple species\n",
        "4. Understand that evalue paramater is the parameter by which BLAST ranks the sequence matches\n",
        "5. Understand that alignment length, percent identity and coverage are important parameters in interpreting the the BLAST results\n",
        "6. Think of how would you filter the contaminants from the results\n",
        "7. Think of how would you quantified the species from BLAST results"
      ]
    },
    {
      "cell_type": "code",
      "execution_count": null,
      "metadata": {
        "id": "6qvQkwey0Mpd",
        "outputId": "e66a1f0c-d469-4135-9737-2de69dfe63db"
      },
      "outputs": [
        {
          "name": "stdout",
          "output_type": "stream",
          "text": [
            "\u001b[0m\u001b[01;34mdata\u001b[0m  \u001b[01;34mdata_prev\u001b[0m  \u001b[01;34mipynb\u001b[0m  \u001b[01;34mpages\u001b[0m\n"
          ]
        }
      ],
      "source": [
        "# Initialize a working directory\n",
        "LD=~/lesson\n",
        "cd $LD\n",
        "ls"
      ]
    },
    {
      "cell_type": "code",
      "execution_count": null,
      "metadata": {
        "id": "W6V7RALe0Mpe"
      },
      "outputs": [],
      "source": [
        "# Download the BLAST program suite\n",
        "# https://blast.ncbi.nlm.nih.gov/doc/blast-help/downloadblastdata.html#blast-executables"
      ]
    },
    {
      "cell_type": "code",
      "execution_count": null,
      "metadata": {
        "id": "G8hhlpz60Mpf",
        "outputId": "d8fedcff-bbbc-4e28-8ab7-f1628507e1b2"
      },
      "outputs": [
        {
          "name": "stdout",
          "output_type": "stream",
          "text": [
            "--2023-11-01 13:18:38--  https://ftp.ncbi.nlm.nih.gov/blast/executables/blast+/LATEST/ncbi-blast-2.14.1+-x64-linux.tar.gz\n",
            "Resolving ftp.ncbi.nlm.nih.gov (ftp.ncbi.nlm.nih.gov)... 130.14.250.7, 130.14.250.13, 2607:f220:41e:250::11, ...\n",
            "Connecting to ftp.ncbi.nlm.nih.gov (ftp.ncbi.nlm.nih.gov)|130.14.250.7|:443... connected.\n",
            "HTTP request sent, awaiting response... 200 OK\n",
            "Length: 251154151 (240M) [application/x-gzip]\n",
            "Saving to: ‘ncbi-blast-2.14.1+-x64-linux.tar.gz’\n",
            "\n",
            "ncbi-blast-2.14.1+- 100%[===================>] 239.52M  11.8MB/s    in 21s     \n",
            "\n",
            "2023-11-01 13:19:00 (11.2 MB/s) - ‘ncbi-blast-2.14.1+-x64-linux.tar.gz’ saved [251154151/251154151]\n",
            "\n",
            "ncbi-blast-2.14.1+/\n",
            "ncbi-blast-2.14.1+/README\n",
            "ncbi-blast-2.14.1+/doc/\n",
            "ncbi-blast-2.14.1+/doc/README.txt\n",
            "ncbi-blast-2.14.1+/BLAST_PRIVACY\n",
            "ncbi-blast-2.14.1+/ChangeLog\n",
            "ncbi-blast-2.14.1+/bin/\n",
            "ncbi-blast-2.14.1+/bin/tblastx\n",
            "ncbi-blast-2.14.1+/bin/blast_formatter_vdb\n",
            "ncbi-blast-2.14.1+/bin/blastp\n",
            "ncbi-blast-2.14.1+/bin/blastdbcmd\n",
            "ncbi-blast-2.14.1+/bin/makeprofiledb\n",
            "ncbi-blast-2.14.1+/bin/makeblastdb\n",
            "ncbi-blast-2.14.1+/bin/segmasker\n",
            "ncbi-blast-2.14.1+/bin/update_blastdb.pl\n",
            "ncbi-blast-2.14.1+/bin/blastn\n",
            "ncbi-blast-2.14.1+/bin/makembindex\n",
            "ncbi-blast-2.14.1+/bin/rpstblastn\n",
            "ncbi-blast-2.14.1+/bin/tblastn\n",
            "ncbi-blast-2.14.1+/bin/blastdb_aliastool\n",
            "ncbi-blast-2.14.1+/bin/rpsblast\n",
            "ncbi-blast-2.14.1+/bin/cleanup-blastdb-volumes.py\n",
            "ncbi-blast-2.14.1+/bin/blast_formatter\n",
            "ncbi-blast-2.14.1+/bin/tblastn_vdb\n",
            "ncbi-blast-2.14.1+/bin/deltablast\n",
            "ncbi-blast-2.14.1+/bin/get_species_taxids.sh\n",
            "ncbi-blast-2.14.1+/bin/legacy_blast.pl\n",
            "ncbi-blast-2.14.1+/bin/blastx\n",
            "ncbi-blast-2.14.1+/bin/blastdbcheck\n",
            "ncbi-blast-2.14.1+/bin/convert2blastmask\n",
            "ncbi-blast-2.14.1+/bin/blastn_vdb\n",
            "ncbi-blast-2.14.1+/bin/windowmasker\n",
            "ncbi-blast-2.14.1+/bin/dustmasker\n",
            "ncbi-blast-2.14.1+/bin/psiblast\n",
            "ncbi-blast-2.14.1+/bin/blast_vdb_cmd\n",
            "ncbi-blast-2.14.1+/ncbi_package_info\n",
            "ncbi-blast-2.14.1+/LICENSE\n",
            "\u001b[0m\u001b[01;34mncbi-blast-2.14.1+\u001b[0m  \u001b[01;31mncbi-blast-2.14.1+-x64-linux.tar.gz\u001b[0m\n"
          ]
        }
      ],
      "source": [
        "# Make folder for installs\n",
        "mkdir -p $LD/installs && cd $LD/installs\n",
        "\n",
        "# Get BLAST programs\n",
        "wget https://ftp.ncbi.nlm.nih.gov/blast/executables/blast+/LATEST/ncbi-blast-2.14.1+-x64-linux.tar.gz\n",
        "\n",
        "# Extract the archive\n",
        "tar -xvzf ncbi-blast-2.14.1+-x64-linux.tar.gz\n",
        "ls"
      ]
    },
    {
      "cell_type": "code",
      "execution_count": null,
      "metadata": {
        "id": "xxDcTwXM0Mpg",
        "outputId": "91661745-a971-44cb-eb71-1a464fc75d7f"
      },
      "outputs": [
        {
          "name": "stdout",
          "output_type": "stream",
          "text": [
            "\u001b[0m\u001b[01;32mblastdb_aliastool\u001b[0m    \u001b[01;32mcleanup-blastdb-volumes.py\u001b[0m  \u001b[01;32mrpsblast\u001b[0m\n",
            "\u001b[01;32mblastdbcheck\u001b[0m         \u001b[01;32mconvert2blastmask\u001b[0m           \u001b[01;32mrpstblastn\u001b[0m\n",
            "\u001b[01;32mblastdbcmd\u001b[0m           \u001b[01;32mdeltablast\u001b[0m                  \u001b[01;32msegmasker\u001b[0m\n",
            "\u001b[01;32mblast_formatter\u001b[0m      \u001b[01;32mdustmasker\u001b[0m                  \u001b[01;32mtblastn\u001b[0m\n",
            "\u001b[01;32mblast_formatter_vdb\u001b[0m  \u001b[01;32mget_species_taxids.sh\u001b[0m       \u001b[01;32mtblastn_vdb\u001b[0m\n",
            "\u001b[01;32mblastn\u001b[0m               \u001b[01;32mlegacy_blast.pl\u001b[0m             \u001b[01;32mtblastx\u001b[0m\n",
            "\u001b[01;32mblastn_vdb\u001b[0m           \u001b[01;32mmakeblastdb\u001b[0m                 \u001b[01;32mupdate_blastdb.pl\u001b[0m\n",
            "\u001b[01;32mblastp\u001b[0m               \u001b[01;32mmakembindex\u001b[0m                 \u001b[01;32mwindowmasker\u001b[0m\n",
            "\u001b[01;32mblast_vdb_cmd\u001b[0m        \u001b[01;32mmakeprofiledb\u001b[0m\n",
            "\u001b[01;32mblastx\u001b[0m               \u001b[01;32mpsiblast\u001b[0m\n"
          ]
        }
      ],
      "source": [
        "# What programs were downloaded\n",
        "ls $LD/installs/ncbi-blast-2.14.1+/bin/"
      ]
    },
    {
      "cell_type": "code",
      "execution_count": null,
      "metadata": {
        "id": "hl1ipQaM0Mph"
      },
      "outputs": [],
      "source": [
        "# in order to access the blast programs export PATH\n",
        "export PATH=$LD/installs/ncbi-blast-2.14.1+/bin/:$PATH"
      ]
    },
    {
      "cell_type": "code",
      "execution_count": null,
      "metadata": {
        "id": "-KzcO_6U0Mpi"
      },
      "outputs": [],
      "source": [
        "# Program update_blastdb.pl is used to manage BLAST database download and update\n",
        "# what commands are available?\n",
        "update_blastdb.pl --help"
      ]
    },
    {
      "cell_type": "code",
      "execution_count": null,
      "metadata": {
        "id": "iTDUdGJk0Mpj",
        "outputId": "26ca9452-7a66-4a8e-884f-7919c25cf48a"
      },
      "outputs": [
        {
          "name": "stdout",
          "output_type": "stream",
          "text": [
            "ITS_RefSeq_Fungi\n",
            "18S_fungal_sequences\n",
            "ITS_eukaryote_sequences\n",
            "16S_ribosomal_RNA\n",
            "Betacoronavirus\n",
            "28S_fungal_sequences\n",
            "LSU_eukaryote_rRNA\n",
            "LSU_prokaryote_rRNA\n",
            "SSU_eukaryote_rRNA\n",
            "env_nt\n",
            "env_nr\n",
            "nt_prok\n",
            "nt_viruses\n",
            "pataa\n",
            "patnt\n",
            "human_genome\n",
            "landmark\n",
            "mito\n",
            "mouse_genome\n",
            "nr\n",
            "nt_euk\n",
            "nt\n",
            "nt_others\n",
            "pdbaa\n",
            "pdbnt\n",
            "ref_euk_rep_genomes\n",
            "ref_prok_rep_genomes\n",
            "ref_viroids_rep_genomes\n",
            "ref_viruses_rep_genomes\n",
            "refseq_select_rna\n",
            "refseq_select_prot\n",
            "refseq_protein\n",
            "refseq_rna\n",
            "swissprot\n",
            "tsa_nr\n",
            "tsa_nt\n",
            "taxdb\n"
          ]
        }
      ],
      "source": [
        "# show all databases available for download\n",
        "update_blastdb.pl --showall"
      ]
    },
    {
      "cell_type": "markdown",
      "metadata": {
        "id": "VCgbSeky0Mpk"
      },
      "source": [
        "#### BLAST databases 16S_ribosomal_RNA and taxdb"
      ]
    },
    {
      "cell_type": "code",
      "execution_count": null,
      "metadata": {
        "id": "ZopSshyF0Mpk"
      },
      "outputs": [],
      "source": [
        "# create a folder for BLAST database download and descend into it to initiate the download\n",
        "mkdir -p $LD/installs/blastdb && cd $LD/installs/blastdb"
      ]
    },
    {
      "cell_type": "code",
      "execution_count": null,
      "metadata": {
        "id": "cULcRcTs0Mpl",
        "outputId": "2d40445c-84e0-4c69-ae77-3cd25836f1b5"
      },
      "outputs": [
        {
          "name": "stdout",
          "output_type": "stream",
          "text": [
            "Downloading https://ftp.ncbi.nlm.nih.gov/blast/db/16S_ribosomal_RNA.tar.gz... [OK]\n",
            "Downloading https://ftp.ncbi.nlm.nih.gov/blast/db/taxdb.tar.gz... [OK]\n",
            "Decompressing 16S_ribosomal_RNA.tar.gz ... [OK]\n",
            "Decompressing taxdb.tar.gz ... [OK]\n"
          ]
        }
      ],
      "source": [
        "# download 16S_ribosomal_RNA and taxonomy databases.Without taxonomy there will be no species scientific names\n",
        "update_blastdb.pl --decompress --verbose 16S_ribosomal_RNA taxdb"
      ]
    },
    {
      "cell_type": "code",
      "execution_count": null,
      "metadata": {
        "id": "bJS0ukBe0Mpl",
        "outputId": "ad75e829-471a-4818-bbed-ee589dca80de"
      },
      "outputs": [
        {
          "name": "stdout",
          "output_type": "stream",
          "text": [
            "16S_ribosomal_RNA.ndb  16S_ribosomal_RNA.nos         taxdb.btd\n",
            "16S_ribosomal_RNA.nhr  16S_ribosomal_RNA.not         taxdb.bti\n",
            "16S_ribosomal_RNA.nin  16S_ribosomal_RNA.nsq         taxdb.tar.gz.md5\n",
            "16S_ribosomal_RNA.nnd  16S_ribosomal_RNA.ntf         taxonomy4blast.sqlite3\n",
            "16S_ribosomal_RNA.nni  16S_ribosomal_RNA.nto\n",
            "16S_ribosomal_RNA.nog  16S_ribosomal_RNA.tar.gz.md5\n"
          ]
        }
      ],
      "source": [
        "# List downloaded database files\n",
        "ls"
      ]
    },
    {
      "cell_type": "code",
      "execution_count": null,
      "metadata": {
        "id": "9gNeGfC_0Mpm",
        "outputId": "1a8ec780-e8c4-4798-f0e4-bc6270a44219"
      },
      "outputs": [
        {
          "name": "stdout",
          "output_type": "stream",
          "text": [
            "/home/erin/lesson/installs/blastdb\n"
          ]
        }
      ],
      "source": [
        "# export BLASTDB path for search\n",
        "# about BLAST refer to class materials\n",
        "export BLASTDB=$LD/installs/blastdb\n",
        "\n",
        "# verify that path exists\n",
        "echo $BLASTDB"
      ]
    },
    {
      "cell_type": "code",
      "execution_count": null,
      "metadata": {
        "id": "asexfKVL0Mpm"
      },
      "outputs": [],
      "source": [
        "# another useful program is blastdbcmd\n",
        "# Explore parameters of blastdbcmd. How can you obtain a list of program parameters and descriptions?\n",
        "# blastdbcmd --help\n",
        "# what is wrong in the above command? What is the correct command?"
      ]
    },
    {
      "cell_type": "code",
      "execution_count": null,
      "metadata": {
        "id": "9ugCfpfM0Mpm",
        "outputId": "40e7802d-0718-49b3-e51a-2ee2e413292a"
      },
      "outputs": [
        {
          "name": "stdout",
          "output_type": "stream",
          "text": [
            "{\n",
            "  \"version\": \"1.2\",\n",
            "  \"dbname\": \"16S_ribosomal_RNA\",\n",
            "  \"dbtype\": \"Nucleotide\",\n",
            "  \"db-version\": 5,\n",
            "  \"description\": \"16S ribosomal RNA (Bacteria and Archaea type strains)\",\n",
            "  \"number-of-letters\": 39006255,\n",
            "  \"number-of-sequences\": 26910,\n",
            "  \"last-updated\": \"2023-10-21T05:36:00\",\n",
            "  \"number-of-volumes\": 1,\n",
            "  \"number-of-taxids\": 20929,\n",
            "  \"bytes-total\": 17871139,\n",
            "  \"bytes-to-cache\": 10202658,\n",
            "  \"files\": [\n",
            "    \"16S_ribosomal_RNA.ndb\",\n",
            "    \"16S_ribosomal_RNA.nhr\",\n",
            "    \"16S_ribosomal_RNA.nin\",\n",
            "    \"16S_ribosomal_RNA.nnd\",\n",
            "    \"16S_ribosomal_RNA.nni\",\n",
            "    \"16S_ribosomal_RNA.nog\",\n",
            "    \"16S_ribosomal_RNA.nos\",\n",
            "    \"16S_ribosomal_RNA.not\",\n",
            "    \"16S_ribosomal_RNA.nsq\",\n",
            "    \"16S_ribosomal_RNA.ntf\",\n",
            "    \"16S_ribosomal_RNA.nto\"\n",
            "  ]\n",
            "}\n"
          ]
        }
      ],
      "source": [
        "# here blastdbcmd is used to gather information about the database. What other information can be obtained using blastdbcmd?\n",
        "blastdbcmd -metadata -db 16S_ribosomal_RNA"
      ]
    },
    {
      "cell_type": "markdown",
      "metadata": {
        "id": "qVjzSI7q0Mpm"
      },
      "source": [
        "#### Obtain SRA Toolkit"
      ]
    },
    {
      "cell_type": "code",
      "execution_count": null,
      "metadata": {
        "id": "HA3EdrdM0Mpm",
        "outputId": "363251f1-2da5-40ff-b5ef-658eaa23788e"
      },
      "outputs": [
        {
          "name": "stdout",
          "output_type": "stream",
          "text": [
            "--2023-11-01 13:22:57--  https://ftp-trace.ncbi.nlm.nih.gov/sra/sdk/3.0.7/sratoolkit.3.0.7-centos_linux64.tar.gz\n",
            "Resolving ftp-trace.ncbi.nlm.nih.gov (ftp-trace.ncbi.nlm.nih.gov)... 130.14.250.10, 130.14.250.11, 2607:f220:41e:250::10, ...\n",
            "Connecting to ftp-trace.ncbi.nlm.nih.gov (ftp-trace.ncbi.nlm.nih.gov)|130.14.250.10|:443... connected.\n",
            "HTTP request sent, awaiting response... 200 OK\n",
            "Length: 93172877 (89M) [application/x-gzip]\n",
            "Saving to: ‘sratoolkit.3.0.7-centos_linux64.tar.gz’\n",
            "\n",
            "sratoolkit.3.0.7-ce 100%[===================>]  88.86M  11.7MB/s    in 8.5s    \n",
            "\n",
            "2023-11-01 13:23:07 (10.4 MB/s) - ‘sratoolkit.3.0.7-centos_linux64.tar.gz’ saved [93172877/93172877]\n",
            "\n",
            "sratoolkit.3.0.7-centos_linux64/\n",
            "sratoolkit.3.0.7-centos_linux64/README.md\n",
            "sratoolkit.3.0.7-centos_linux64/README-vdb-config\n",
            "sratoolkit.3.0.7-centos_linux64/schema/\n",
            "sratoolkit.3.0.7-centos_linux64/schema/vdb/\n",
            "sratoolkit.3.0.7-centos_linux64/schema/vdb/vdb.vschema\n",
            "sratoolkit.3.0.7-centos_linux64/schema/vdb/built-in.vschema\n",
            "sratoolkit.3.0.7-centos_linux64/schema/insdc/\n",
            "sratoolkit.3.0.7-centos_linux64/schema/insdc/insdc.vschema\n",
            "sratoolkit.3.0.7-centos_linux64/schema/insdc/sra.vschema\n",
            "sratoolkit.3.0.7-centos_linux64/schema/insdc/seq.vschema\n",
            "sratoolkit.3.0.7-centos_linux64/schema/sra/\n",
            "sratoolkit.3.0.7-centos_linux64/schema/sra/abi.vschema\n",
            "sratoolkit.3.0.7-centos_linux64/schema/sra/pevents.vschema\n",
            "sratoolkit.3.0.7-centos_linux64/schema/sra/generic-fastq.vschema\n",
            "sratoolkit.3.0.7-centos_linux64/schema/sra/454.vschema\n",
            "sratoolkit.3.0.7-centos_linux64/schema/sra/pacbio.vschema\n",
            "sratoolkit.3.0.7-centos_linux64/schema/sra/illumina.vschema\n",
            "sratoolkit.3.0.7-centos_linux64/schema/sra/helicos.vschema\n",
            "sratoolkit.3.0.7-centos_linux64/schema/sra/nanopore.vschema\n",
            "sratoolkit.3.0.7-centos_linux64/schema/sra/ion-torrent.vschema\n",
            "sratoolkit.3.0.7-centos_linux64/schema/ncbi/\n",
            "sratoolkit.3.0.7-centos_linux64/schema/ncbi/clip.vschema\n",
            "sratoolkit.3.0.7-centos_linux64/schema/ncbi/seq-graph.vschema\n",
            "sratoolkit.3.0.7-centos_linux64/schema/ncbi/stats.vschema\n",
            "sratoolkit.3.0.7-centos_linux64/schema/ncbi/ncbi.vschema\n",
            "sratoolkit.3.0.7-centos_linux64/schema/ncbi/wgs-contig.vschema\n",
            "sratoolkit.3.0.7-centos_linux64/schema/ncbi/sra.vschema\n",
            "sratoolkit.3.0.7-centos_linux64/schema/ncbi/spotname.vschema\n",
            "sratoolkit.3.0.7-centos_linux64/schema/ncbi/pnbrdb.vschema\n",
            "sratoolkit.3.0.7-centos_linux64/schema/ncbi/varloc.vschema\n",
            "sratoolkit.3.0.7-centos_linux64/schema/ncbi/seq.vschema\n",
            "sratoolkit.3.0.7-centos_linux64/schema/ncbi/trace.vschema\n",
            "sratoolkit.3.0.7-centos_linux64/schema/align/\n",
            "sratoolkit.3.0.7-centos_linux64/schema/align/refseq.vschema\n",
            "sratoolkit.3.0.7-centos_linux64/schema/align/pileup-stats.vschema\n",
            "sratoolkit.3.0.7-centos_linux64/schema/align/mate-cache.vschema\n",
            "sratoolkit.3.0.7-centos_linux64/schema/align/seq.vschema\n",
            "sratoolkit.3.0.7-centos_linux64/schema/align/align.vschema\n",
            "sratoolkit.3.0.7-centos_linux64/schema/align/qstat.vschema\n",
            "sratoolkit.3.0.7-centos_linux64/schema/csra2/\n",
            "sratoolkit.3.0.7-centos_linux64/schema/csra2/stats.vschema\n",
            "sratoolkit.3.0.7-centos_linux64/schema/csra2/reference.vschema\n",
            "sratoolkit.3.0.7-centos_linux64/schema/csra2/read.vschema\n",
            "sratoolkit.3.0.7-centos_linux64/schema/csra2/csra2.vschema\n",
            "sratoolkit.3.0.7-centos_linux64/bin/\n",
            "sratoolkit.3.0.7-centos_linux64/bin/fasterq-dump.3.0.7\n",
            "sratoolkit.3.0.7-centos_linux64/bin/pacbio-load.3.0.7\n",
            "sratoolkit.3.0.7-centos_linux64/bin/sra-stat.3.0.7\n",
            "sratoolkit.3.0.7-centos_linux64/bin/cg-load.3.0.7\n",
            "sratoolkit.3.0.7-centos_linux64/bin/sratools.3.0.7\n",
            "sratoolkit.3.0.7-centos_linux64/bin/vdb-lock.3.0.7\n",
            "sratoolkit.3.0.7-centos_linux64/bin/bam-load.3\n",
            "sratoolkit.3.0.7-centos_linux64/bin/sra-search\n",
            "sratoolkit.3.0.7-centos_linux64/bin/sam-dump-orig.3.0.7\n",
            "sratoolkit.3.0.7-centos_linux64/bin/sra-search.3.0.7\n",
            "sratoolkit.3.0.7-centos_linux64/bin/test-sra.3.0.7\n",
            "sratoolkit.3.0.7-centos_linux64/bin/sra-sort.3.0.7\n",
            "sratoolkit.3.0.7-centos_linux64/bin/vdb-decrypt.3.0.7\n",
            "sratoolkit.3.0.7-centos_linux64/bin/prefetch.3\n",
            "sratoolkit.3.0.7-centos_linux64/bin/sam-dump.3\n",
            "sratoolkit.3.0.7-centos_linux64/bin/sff-dump.3\n",
            "sratoolkit.3.0.7-centos_linux64/bin/srapath-orig.3.0.7\n",
            "sratoolkit.3.0.7-centos_linux64/bin/cache-mgr.3.0.7\n",
            "sratoolkit.3.0.7-centos_linux64/bin/kar.3.0.7\n",
            "sratoolkit.3.0.7-centos_linux64/bin/sff-dump\n",
            "sratoolkit.3.0.7-centos_linux64/bin/fastq-dump\n",
            "sratoolkit.3.0.7-centos_linux64/bin/sra-sort-cg.3.0.7\n",
            "sratoolkit.3.0.7-centos_linux64/bin/prefetch.3.0.7\n",
            "sratoolkit.3.0.7-centos_linux64/bin/fastq-load.3\n",
            "sratoolkit.3.0.7-centos_linux64/bin/sra-sort.3\n",
            "sratoolkit.3.0.7-centos_linux64/bin/cache-mgr.3\n",
            "sratoolkit.3.0.7-centos_linux64/bin/abi-dump.3.0.7\n",
            "sratoolkit.3.0.7-centos_linux64/bin/cache-mgr\n",
            "sratoolkit.3.0.7-centos_linux64/bin/srapath\n",
            "sratoolkit.3.0.7-centos_linux64/bin/fastq-dump.3.0.7\n",
            "sratoolkit.3.0.7-centos_linux64/bin/kar.3\n",
            "sratoolkit.3.0.7-centos_linux64/bin/srf-load.3\n",
            "sratoolkit.3.0.7-centos_linux64/bin/illumina-dump\n",
            "sratoolkit.3.0.7-centos_linux64/bin/srapath.3\n",
            "sratoolkit.3.0.7-centos_linux64/bin/latf-load.3.0.7\n",
            "sratoolkit.3.0.7-centos_linux64/bin/sam-dump\n",
            "sratoolkit.3.0.7-centos_linux64/bin/vdb-encrypt\n",
            "sratoolkit.3.0.7-centos_linux64/bin/rcexplain\n",
            "sratoolkit.3.0.7-centos_linux64/bin/illumina-dump.3.0.7\n",
            "sratoolkit.3.0.7-centos_linux64/bin/vdb-decrypt\n",
            "sratoolkit.3.0.7-centos_linux64/bin/vdb-lock.3\n",
            "sratoolkit.3.0.7-centos_linux64/bin/vdb-lock\n",
            "sratoolkit.3.0.7-centos_linux64/bin/ncbi/\n",
            "sratoolkit.3.0.7-centos_linux64/bin/ncbi/default.kfg\n",
            "sratoolkit.3.0.7-centos_linux64/bin/ncbi/certs.kfg\n",
            "sratoolkit.3.0.7-centos_linux64/bin/ncbi/vdb-copy.kfg\n",
            "sratoolkit.3.0.7-centos_linux64/bin/vdb-validate\n",
            "sratoolkit.3.0.7-centos_linux64/bin/rcexplain.3\n",
            "sratoolkit.3.0.7-centos_linux64/bin/vdb-copy.3\n",
            "sratoolkit.3.0.7-centos_linux64/bin/vdb-config\n",
            "sratoolkit.3.0.7-centos_linux64/bin/sam-dump.3.0.7\n",
            "sratoolkit.3.0.7-centos_linux64/bin/fastq-load\n",
            "sratoolkit.3.0.7-centos_linux64/bin/sff-load.3\n",
            "sratoolkit.3.0.7-centos_linux64/bin/illumina-load.3\n",
            "sratoolkit.3.0.7-centos_linux64/bin/sff-load.3.0.7\n",
            "sratoolkit.3.0.7-centos_linux64/bin/vdb-dump.3\n",
            "sratoolkit.3.0.7-centos_linux64/bin/test-sra.3\n",
            "sratoolkit.3.0.7-centos_linux64/bin/vdb-dump.3.0.7\n",
            "sratoolkit.3.0.7-centos_linux64/bin/helicos-load\n",
            "sratoolkit.3.0.7-centos_linux64/bin/pacbio-load\n",
            "sratoolkit.3.0.7-centos_linux64/bin/helicos-load.3\n",
            "sratoolkit.3.0.7-centos_linux64/bin/prefetch-orig.3.0.7\n",
            "sratoolkit.3.0.7-centos_linux64/bin/abi-dump\n",
            "sratoolkit.3.0.7-centos_linux64/bin/test-sra\n",
            "sratoolkit.3.0.7-centos_linux64/bin/vdb-validate.3.0.7\n",
            "sratoolkit.3.0.7-centos_linux64/bin/vdb-validate.3\n",
            "sratoolkit.3.0.7-centos_linux64/bin/illumina-dump.3\n",
            "sratoolkit.3.0.7-centos_linux64/bin/helicos-load.3.0.7\n",
            "sratoolkit.3.0.7-centos_linux64/bin/dump-ref-fasta.3.0.7\n",
            "sratoolkit.3.0.7-centos_linux64/bin/fasterq-dump-orig.3.0.7\n",
            "sratoolkit.3.0.7-centos_linux64/bin/vdb-copy.3.0.7\n",
            "sratoolkit.3.0.7-centos_linux64/bin/bam-load\n",
            "sratoolkit.3.0.7-centos_linux64/bin/vdb-unlock.3.0.7\n",
            "sratoolkit.3.0.7-centos_linux64/bin/kdbmeta.3\n",
            "sratoolkit.3.0.7-centos_linux64/bin/sra-sort-cg\n",
            "sratoolkit.3.0.7-centos_linux64/bin/fasterq-dump.3\n",
            "sratoolkit.3.0.7-centos_linux64/bin/latf-load\n",
            "sratoolkit.3.0.7-centos_linux64/bin/align-info.3.0.7\n",
            "sratoolkit.3.0.7-centos_linux64/bin/abi-load.3\n",
            "sratoolkit.3.0.7-centos_linux64/bin/kdbmeta.3.0.7\n",
            "sratoolkit.3.0.7-centos_linux64/bin/rcexplain.3.0.7\n",
            "sratoolkit.3.0.7-centos_linux64/bin/vdb-unlock\n",
            "sratoolkit.3.0.7-centos_linux64/bin/illumina-load\n",
            "sratoolkit.3.0.7-centos_linux64/bin/srf-load\n",
            "sratoolkit.3.0.7-centos_linux64/bin/srapath.3.0.7\n",
            "sratoolkit.3.0.7-centos_linux64/bin/vdb-encrypt.3\n",
            "sratoolkit.3.0.7-centos_linux64/bin/sra-stat.3\n",
            "sratoolkit.3.0.7-centos_linux64/bin/sra-pileup.3\n",
            "sratoolkit.3.0.7-centos_linux64/bin/abi-load.3.0.7\n",
            "sratoolkit.3.0.7-centos_linux64/bin/align-info\n",
            "sratoolkit.3.0.7-centos_linux64/bin/fastq-load.3.0.7\n",
            "sratoolkit.3.0.7-centos_linux64/bin/sra-search.3\n",
            "sratoolkit.3.0.7-centos_linux64/bin/vdb-dump-orig.3.0.7\n",
            "sratoolkit.3.0.7-centos_linux64/bin/abi-load\n",
            "sratoolkit.3.0.7-centos_linux64/bin/vdb-decrypt.3\n",
            "sratoolkit.3.0.7-centos_linux64/bin/fastq-dump.3\n",
            "sratoolkit.3.0.7-centos_linux64/bin/dump-ref-fasta.3\n",
            "sratoolkit.3.0.7-centos_linux64/bin/kar\n",
            "sratoolkit.3.0.7-centos_linux64/bin/dump-ref-fasta\n",
            "sratoolkit.3.0.7-centos_linux64/bin/cg-load\n",
            "sratoolkit.3.0.7-centos_linux64/bin/vdb-copy\n",
            "sratoolkit.3.0.7-centos_linux64/bin/vdb-config.3\n",
            "sratoolkit.3.0.7-centos_linux64/bin/sra-sort-cg.3\n",
            "sratoolkit.3.0.7-centos_linux64/bin/sff-dump.3.0.7\n",
            "sratoolkit.3.0.7-centos_linux64/bin/sra-stat\n",
            "sratoolkit.3.0.7-centos_linux64/bin/abi-dump.3\n",
            "sratoolkit.3.0.7-centos_linux64/bin/sra-pileup.3.0.7\n",
            "sratoolkit.3.0.7-centos_linux64/bin/align-info.3\n",
            "sratoolkit.3.0.7-centos_linux64/bin/illumina-load.3.0.7\n",
            "sratoolkit.3.0.7-centos_linux64/bin/sra-sort\n",
            "sratoolkit.3.0.7-centos_linux64/bin/sra-pileup-orig.3.0.7\n",
            "sratoolkit.3.0.7-centos_linux64/bin/kdbmeta\n",
            "sratoolkit.3.0.7-centos_linux64/bin/vdb-dump\n",
            "sratoolkit.3.0.7-centos_linux64/bin/fastq-dump-orig.3.0.7\n",
            "sratoolkit.3.0.7-centos_linux64/bin/bam-load.3.0.7\n",
            "sratoolkit.3.0.7-centos_linux64/bin/sra-pileup\n",
            "sratoolkit.3.0.7-centos_linux64/bin/latf-load.3\n",
            "sratoolkit.3.0.7-centos_linux64/bin/cg-load.3\n",
            "sratoolkit.3.0.7-centos_linux64/bin/vdb-encrypt.3.0.7\n",
            "sratoolkit.3.0.7-centos_linux64/bin/prefetch\n",
            "sratoolkit.3.0.7-centos_linux64/bin/fasterq-dump\n",
            "sratoolkit.3.0.7-centos_linux64/bin/pacbio-load.3\n",
            "sratoolkit.3.0.7-centos_linux64/bin/vdb-config.3.0.7\n",
            "sratoolkit.3.0.7-centos_linux64/bin/vdb-unlock.3\n",
            "sratoolkit.3.0.7-centos_linux64/bin/srf-load.3.0.7\n",
            "sratoolkit.3.0.7-centos_linux64/bin/sff-load\n",
            "sratoolkit.3.0.7-centos_linux64/example/\n",
            "sratoolkit.3.0.7-centos_linux64/example/perl/\n",
            "sratoolkit.3.0.7-centos_linux64/example/perl/base-stats.pl\n",
            "sratoolkit.3.0.7-centos_linux64/example/perl/mismatch-stats.pl\n",
            "sratoolkit.3.0.7-centos_linux64/example/perl/gene-lookup.pl\n",
            "sratoolkit.3.0.7-centos_linux64/example/perl/simplefastq.pl\n",
            "sratoolkit.3.0.7-centos_linux64/example/perl/splitfastq.pl\n",
            "sratoolkit.3.0.7-centos_linux64/example/perl/dump-reference.pl\n",
            "sratoolkit.3.0.7-centos_linux64/example/perl/quality-stats.pl\n",
            "sratoolkit.3.0.7-centos_linux64/CHANGES\n",
            "sratoolkit.3.0.7-centos_linux64/README-blastn\n"
          ]
        }
      ],
      "source": [
        "cd $LD/installs\n",
        "\n",
        "# More information on get SRA Toolkit\n",
        "# https://github.com/ncbi/sra-tools/wiki/01.-Downloading-SRA-Toolkit\n",
        "\n",
        "# get SRA Toolkit\n",
        "wget https://ftp-trace.ncbi.nlm.nih.gov/sra/sdk/3.0.7/sratoolkit.3.0.7-centos_linux64.tar.gz\n",
        "\n",
        "# unpack\n",
        "tar -xzvf sratoolkit.3.0.7-centos_linux64.tar.gz"
      ]
    },
    {
      "cell_type": "code",
      "execution_count": null,
      "metadata": {
        "id": "mXFBXiUe0Mpn",
        "outputId": "f0edf46d-9472-4ca4-94e3-420b7bded9a1"
      },
      "outputs": [
        {
          "name": "stdout",
          "output_type": "stream",
          "text": [
            "\u001b[0m\u001b[01;34mbin\u001b[0m  CHANGES  \u001b[01;34mexample\u001b[0m  README-blastn  README.md  README-vdb-config  \u001b[01;34mschema\u001b[0m\n"
          ]
        }
      ],
      "source": [
        "# see the contents of the folder\n",
        "ls $LD/installs/sratoolkit.3.0.7-centos_linux64/"
      ]
    },
    {
      "cell_type": "code",
      "execution_count": null,
      "metadata": {
        "id": "uB9GWkc40Mpn",
        "outputId": "55f8deab-cbdd-413f-cf6b-c2d5610b488a"
      },
      "outputs": [
        {
          "name": "stdout",
          "output_type": "stream",
          "text": [
            "\u001b[0m\u001b[01;36mabi-dump\u001b[0m                 \u001b[01;36mkar\u001b[0m                    \u001b[01;36msra-sort\u001b[0m\n",
            "\u001b[01;36mabi-dump.3\u001b[0m               \u001b[01;36mkar.3\u001b[0m                  \u001b[01;36msra-sort.3\u001b[0m\n",
            "\u001b[01;32mabi-dump.3.0.7\u001b[0m           \u001b[01;32mkar.3.0.7\u001b[0m              \u001b[01;32msra-sort.3.0.7\u001b[0m\n",
            "\u001b[01;36mabi-load\u001b[0m                 \u001b[01;36mkdbmeta\u001b[0m                \u001b[01;36msra-sort-cg\u001b[0m\n",
            "\u001b[01;36mabi-load.3\u001b[0m               \u001b[01;36mkdbmeta.3\u001b[0m              \u001b[01;36msra-sort-cg.3\u001b[0m\n",
            "\u001b[01;32mabi-load.3.0.7\u001b[0m           \u001b[01;32mkdbmeta.3.0.7\u001b[0m          \u001b[01;32msra-sort-cg.3.0.7\u001b[0m\n",
            "\u001b[01;36malign-info\u001b[0m               \u001b[01;36mlatf-load\u001b[0m              \u001b[01;36msra-stat\u001b[0m\n",
            "\u001b[01;36malign-info.3\u001b[0m             \u001b[01;36mlatf-load.3\u001b[0m            \u001b[01;36msra-stat.3\u001b[0m\n",
            "\u001b[01;32malign-info.3.0.7\u001b[0m         \u001b[01;32mlatf-load.3.0.7\u001b[0m        \u001b[01;32msra-stat.3.0.7\u001b[0m\n",
            "\u001b[01;36mbam-load\u001b[0m                 \u001b[01;34mncbi\u001b[0m                   \u001b[01;32msratools.3.0.7\u001b[0m\n",
            "\u001b[01;36mbam-load.3\u001b[0m               \u001b[01;36mpacbio-load\u001b[0m            \u001b[01;36msrf-load\u001b[0m\n",
            "\u001b[01;32mbam-load.3.0.7\u001b[0m           \u001b[01;36mpacbio-load.3\u001b[0m          \u001b[01;36msrf-load.3\u001b[0m\n",
            "\u001b[01;36mcache-mgr\u001b[0m                \u001b[01;32mpacbio-load.3.0.7\u001b[0m      \u001b[01;32msrf-load.3.0.7\u001b[0m\n",
            "\u001b[01;36mcache-mgr.3\u001b[0m              \u001b[01;36mprefetch\u001b[0m               \u001b[01;36mtest-sra\u001b[0m\n",
            "\u001b[01;32mcache-mgr.3.0.7\u001b[0m          \u001b[01;36mprefetch.3\u001b[0m             \u001b[01;36mtest-sra.3\u001b[0m\n",
            "\u001b[01;36mcg-load\u001b[0m                  \u001b[01;36mprefetch.3.0.7\u001b[0m         \u001b[01;32mtest-sra.3.0.7\u001b[0m\n",
            "\u001b[01;36mcg-load.3\u001b[0m                \u001b[01;32mprefetch-orig.3.0.7\u001b[0m    \u001b[01;36mvdb-config\u001b[0m\n",
            "\u001b[01;32mcg-load.3.0.7\u001b[0m            \u001b[01;36mrcexplain\u001b[0m              \u001b[01;36mvdb-config.3\u001b[0m\n",
            "\u001b[01;36mdump-ref-fasta\u001b[0m           \u001b[01;36mrcexplain.3\u001b[0m            \u001b[01;32mvdb-config.3.0.7\u001b[0m\n",
            "\u001b[01;36mdump-ref-fasta.3\u001b[0m         \u001b[01;32mrcexplain.3.0.7\u001b[0m        \u001b[01;36mvdb-copy\u001b[0m\n",
            "\u001b[01;32mdump-ref-fasta.3.0.7\u001b[0m     \u001b[01;36msam-dump\u001b[0m               \u001b[01;36mvdb-copy.3\u001b[0m\n",
            "\u001b[01;36mfasterq-dump\u001b[0m             \u001b[01;36msam-dump.3\u001b[0m             \u001b[01;32mvdb-copy.3.0.7\u001b[0m\n",
            "\u001b[01;36mfasterq-dump.3\u001b[0m           \u001b[01;36msam-dump.3.0.7\u001b[0m         \u001b[01;36mvdb-decrypt\u001b[0m\n",
            "\u001b[01;36mfasterq-dump.3.0.7\u001b[0m       \u001b[01;32msam-dump-orig.3.0.7\u001b[0m    \u001b[01;36mvdb-decrypt.3\u001b[0m\n",
            "\u001b[01;32mfasterq-dump-orig.3.0.7\u001b[0m  \u001b[01;36msff-dump\u001b[0m               \u001b[01;32mvdb-decrypt.3.0.7\u001b[0m\n",
            "\u001b[01;36mfastq-dump\u001b[0m               \u001b[01;36msff-dump.3\u001b[0m             \u001b[01;36mvdb-dump\u001b[0m\n",
            "\u001b[01;36mfastq-dump.3\u001b[0m             \u001b[01;32msff-dump.3.0.7\u001b[0m         \u001b[01;36mvdb-dump.3\u001b[0m\n",
            "\u001b[01;36mfastq-dump.3.0.7\u001b[0m         \u001b[01;36msff-load\u001b[0m               \u001b[01;36mvdb-dump.3.0.7\u001b[0m\n",
            "\u001b[01;32mfastq-dump-orig.3.0.7\u001b[0m    \u001b[01;36msff-load.3\u001b[0m             \u001b[01;32mvdb-dump-orig.3.0.7\u001b[0m\n",
            "\u001b[01;36mfastq-load\u001b[0m               \u001b[01;32msff-load.3.0.7\u001b[0m         \u001b[01;36mvdb-encrypt\u001b[0m\n",
            "\u001b[01;36mfastq-load.3\u001b[0m             \u001b[01;36msrapath\u001b[0m                \u001b[01;36mvdb-encrypt.3\u001b[0m\n",
            "\u001b[01;32mfastq-load.3.0.7\u001b[0m         \u001b[01;36msrapath.3\u001b[0m              \u001b[01;32mvdb-encrypt.3.0.7\u001b[0m\n",
            "\u001b[01;36mhelicos-load\u001b[0m             \u001b[01;36msrapath.3.0.7\u001b[0m          \u001b[01;36mvdb-lock\u001b[0m\n",
            "\u001b[01;36mhelicos-load.3\u001b[0m           \u001b[01;32msrapath-orig.3.0.7\u001b[0m     \u001b[01;36mvdb-lock.3\u001b[0m\n",
            "\u001b[01;32mhelicos-load.3.0.7\u001b[0m       \u001b[01;36msra-pileup\u001b[0m             \u001b[01;32mvdb-lock.3.0.7\u001b[0m\n",
            "\u001b[01;36millumina-dump\u001b[0m            \u001b[01;36msra-pileup.3\u001b[0m           \u001b[01;36mvdb-unlock\u001b[0m\n",
            "\u001b[01;36millumina-dump.3\u001b[0m          \u001b[01;36msra-pileup.3.0.7\u001b[0m       \u001b[01;36mvdb-unlock.3\u001b[0m\n",
            "\u001b[01;32millumina-dump.3.0.7\u001b[0m      \u001b[01;32msra-pileup-orig.3.0.7\u001b[0m  \u001b[01;32mvdb-unlock.3.0.7\u001b[0m\n",
            "\u001b[01;36millumina-load\u001b[0m            \u001b[01;36msra-search\u001b[0m             \u001b[01;36mvdb-validate\u001b[0m\n",
            "\u001b[01;36millumina-load.3\u001b[0m          \u001b[01;36msra-search.3\u001b[0m           \u001b[01;36mvdb-validate.3\u001b[0m\n",
            "\u001b[01;32millumina-load.3.0.7\u001b[0m      \u001b[01;32msra-search.3.0.7\u001b[0m       \u001b[01;32mvdb-validate.3.0.7\u001b[0m\n"
          ]
        }
      ],
      "source": [
        "# see the contents of the bin folder - what commands are available in sra-toolkit\n",
        " ls $LD/installs/sratoolkit.3.0.7-centos_linux64/bin/"
      ]
    },
    {
      "cell_type": "code",
      "execution_count": null,
      "metadata": {
        "id": "k1Bbm1Jk0Mpn"
      },
      "outputs": [],
      "source": [
        "# export the path to call the toolkit tools\n",
        "export PATH=$LD/installs/sratoolkit.3.0.7-centos_linux64/bin/:$PATH\n"
      ]
    },
    {
      "cell_type": "code",
      "execution_count": null,
      "metadata": {
        "id": "gd6AbFgV0Mpo"
      },
      "outputs": [],
      "source": [
        "# test that calling SRA Toolkit commands works, see if you can invoke fastq-dump and it is made known to the system\n",
        "# Note how to use the fastq-dump to obtain sequences from the NCBI Short Read Arcive\n",
        "fastq-dump -help"
      ]
    },
    {
      "cell_type": "markdown",
      "metadata": {
        "id": "Ltk2CkPQ0Mpo"
      },
      "source": [
        "#### Dowload sequences from BIOPROJECT PRJNA89935"
      ]
    },
    {
      "cell_type": "code",
      "execution_count": null,
      "metadata": {
        "id": "jueQr_lz0Mpo"
      },
      "outputs": [],
      "source": [
        "# Sample_25 from BIOPROJECT\n",
        "# https://trace.ncbi.nlm.nih.gov/Traces/?view=run_browser&acc=SRR22276225&display=metadata"
      ]
    },
    {
      "cell_type": "code",
      "execution_count": null,
      "metadata": {
        "scrolled": true,
        "id": "SnNuuEFQ0Mpp"
      },
      "outputs": [],
      "source": [
        "mkdir -p $LD/data && cd $LD/data"
      ]
    },
    {
      "cell_type": "code",
      "execution_count": null,
      "metadata": {
        "id": "sxWh57rt0Mpp",
        "outputId": "1c54973a-a246-411f-ad8f-dac64d08c1f9"
      },
      "outputs": [
        {
          "name": "stdout",
          "output_type": "stream",
          "text": [
            "https://sra-pub-run-odp.s3.amazonaws.com/sra/SRR22276225/SRR22276225\n"
          ]
        }
      ],
      "source": [
        "# this command shows the weblink - URL - of the accession\n",
        "srapath SRR22276225"
      ]
    },
    {
      "cell_type": "code",
      "execution_count": null,
      "metadata": {
        "id": "d-oZLhl10Mpp",
        "outputId": "d4e4980f-6b5e-4da8-efa2-d3a39989905d"
      },
      "outputs": [
        {
          "name": "stdout",
          "output_type": "stream",
          "text": [
            "Read 41366 spots for SRR22276225\n",
            "Written 41366 spots for SRR22276225\n"
          ]
        }
      ],
      "source": [
        "# this command retrieves sequences of the given accession in fasta format. Based on the link we can derive that the NCBI hosts sequences on AWS\n",
        "fastq-dump --fasta SRR22276225"
      ]
    },
    {
      "cell_type": "code",
      "execution_count": null,
      "metadata": {
        "id": "JC6GUb_r0Mpp",
        "outputId": "ae837278-7b80-4236-a2ce-8409c0f903ae"
      },
      "outputs": [
        {
          "name": "stdout",
          "output_type": "stream",
          "text": [
            "total 21928\n",
            "drwxrwxr-x 2 erin erin     4096 Nov  1 11:47 \u001b[0m\u001b[01;34m.\u001b[0m\n",
            "drwxrwxr-x 7 erin erin     4096 Nov  1 11:45 \u001b[01;34m..\u001b[0m\n",
            "-rw-rw-r-- 1 erin erin 22445815 Nov  1 11:47 SRR22276225.fasta\n"
          ]
        }
      ],
      "source": [
        "# inspect the folder to see the output of fastq-dump\n",
        "ls -la"
      ]
    },
    {
      "cell_type": "code",
      "execution_count": null,
      "metadata": {
        "id": "5UO2UONS0Mpq",
        "outputId": "56ae6c58-3e40-4126-c64f-ed825ee10558"
      },
      "outputs": [
        {
          "name": "stdout",
          "output_type": "stream",
          "text": [
            ">SRR22276225.1 1 length=339\n",
            "CACTTGTACTTCGTTCGGTTACGTATTGCTAGGTTAACTACTTACGAAGCTGAGGGACTGCCAGCACCTG\n",
            "TGCCAGCCGCCGCGGTAATACGTAGGGGCGAGCGTTGTCCCGGAATTACTGGGCGTAAGGGCACGCAGGC\n",
            "TGTGCTTCAAGTCAGCTGTAAAGGATGCGGCCGCCGTGTTATGCGGCTGAGACTGAGGTGCTGGAGTACC\n",
            "GGAGGCAGAGTGGAATTCCCAGTGTAGCGTTAAATGCGTAGATATTGGAAGAACATCGGTGTCGAAGGCG\n",
            "ACTTGCGGACGGTAACTGACGCTGAGATTTGCGAAAGCCTGGTAGCAAACCGGATTAGA\n",
            ">SRR22276225.2 2 length=357\n",
            "AGCATCTTGTACTTCGTTCAGTTACGTATTGCTAAGGTTAACTACTTACGAAGCTGAGGGACTGCCAGCA\n",
            "CCTGTGCCAGCAACCGCGGTATGCAATGTCACGACGTTATCCGGATTTATTGGGCGTAAAGCGCGTCTAG\n",
            "GTGGTCATGTAAGTCTGATGTGAAAATGCAGGGCTCAACTCTGTATTGCGTTGGAAACTGTGTAACTAAG\n",
            "AGTACTGGAGAGGTAAGCGGAACTACAAGTGTAGAGGTGAAATTCGTAGATATTTGTAGGAATGCCGATG\n",
            "GGAAGCCAGCTTGCCTGGACAGATACTGACGCTGGCGCGAAGCGTGGGTAGCAAGCAGGATTGGAATACT\n",
            "GTAGTCC\n",
            ">SRR22276225.3 3 length=248\n",
            "CCGTCCATGTGCTGCGTTCCGGTTACGTATTGCTAAGGTTAACTACTTACGAAGCTGAGGGACTGCCAGC\n",
            "ACCTCCGTCAATTCCTTTGAGTTTCATACTTGCGTACGTACTCCCCAGGCGGATTACCTATCGCGTTGCT\n",
            "TGGGCGCTGAGGTTCGACCCCCAACACCTAGTAATCATCGTTTACGGCGTGGACTACCCGGGTATCTAAT\n",
            "CCTGTTTGCTACCCACGCTTTCGCGCTTCAGCGTCAGT\n",
            ">SRR22276225.4 4 length=529\n",
            "CATATGTACTTCGTTCCGGTGCGACATTGCTAAGGTTAACTACTTACGAAGCTGAGACTGCCAGCACCTC\n"
          ]
        }
      ],
      "source": [
        "# To test BLAST we need just one read, therefore we need to determine where the sequence ends\n",
        "# Take a note of the fasta file format : header line and sequence\n",
        "head -n20 SRR22276225.fasta"
      ]
    },
    {
      "cell_type": "code",
      "execution_count": null,
      "metadata": {
        "id": "bjPxSFGW0Mpq",
        "outputId": "47e7a99c-9b1a-40b5-f1df-050b86063093"
      },
      "outputs": [
        {
          "name": "stdout",
          "output_type": "stream",
          "text": [
            ">SRR22276225.1 1 length=339\n",
            "CACTTGTACTTCGTTCGGTTACGTATTGCTAGGTTAACTACTTACGAAGCTGAGGGACTGCCAGCACCTG\n",
            "TGCCAGCCGCCGCGGTAATACGTAGGGGCGAGCGTTGTCCCGGAATTACTGGGCGTAAGGGCACGCAGGC\n",
            "TGTGCTTCAAGTCAGCTGTAAAGGATGCGGCCGCCGTGTTATGCGGCTGAGACTGAGGTGCTGGAGTACC\n",
            "GGAGGCAGAGTGGAATTCCCAGTGTAGCGTTAAATGCGTAGATATTGGAAGAACATCGGTGTCGAAGGCG\n",
            "ACTTGCGGACGGTAACTGACGCTGAGATTTGCGAAAGCCTGGTAGCAAACCGGATTAGA\n"
          ]
        }
      ],
      "source": [
        "# The first read takes 6 lines\n",
        "head -n6 SRR22276225.fasta"
      ]
    },
    {
      "cell_type": "code",
      "execution_count": null,
      "metadata": {
        "id": "ysjyM7Y60Mpq",
        "outputId": "8468d9fb-91a1-4bbe-9fa1-c2732699fd70"
      },
      "outputs": [
        {
          "name": "stdout",
          "output_type": "stream",
          "text": [
            ">SRR22276225.1 1 length=339\n",
            "CACTTGTACTTCGTTCGGTTACGTATTGCTAGGTTAACTACTTACGAAGCTGAGGGACTGCCAGCACCTG\n",
            "TGCCAGCCGCCGCGGTAATACGTAGGGGCGAGCGTTGTCCCGGAATTACTGGGCGTAAGGGCACGCAGGC\n",
            "TGTGCTTCAAGTCAGCTGTAAAGGATGCGGCCGCCGTGTTATGCGGCTGAGACTGAGGTGCTGGAGTACC\n",
            "GGAGGCAGAGTGGAATTCCCAGTGTAGCGTTAAATGCGTAGATATTGGAAGAACATCGGTGTCGAAGGCG\n",
            "ACTTGCGGACGGTAACTGACGCTGAGATTTGCGAAAGCCTGGTAGCAAACCGGATTAGA\n"
          ]
        }
      ],
      "source": [
        "# save one read after determining the number of lines\n",
        "head -n6 SRR22276225.fasta > read1.fasta\n",
        "cat read1.fasta"
      ]
    },
    {
      "cell_type": "code",
      "execution_count": null,
      "metadata": {
        "id": "chZ3mXBg0Mpr",
        "outputId": "e65fa95b-e801-4a66-868c-b7aaf15ff81d"
      },
      "outputs": [
        {
          "name": "stdout",
          "output_type": "stream",
          "text": [
            "total 21932\n",
            "drwxrwxr-x 2 erin erin     4096 Nov  1 11:53 \u001b[0m\u001b[01;34m.\u001b[0m\n",
            "drwxrwxr-x 7 erin erin     4096 Nov  1 11:45 \u001b[01;34m..\u001b[0m\n",
            "-rw-rw-r-- 1 erin erin      372 Nov  1 11:54 read1.fasta\n",
            "-rw-rw-r-- 1 erin erin 22445815 Nov  1 11:47 SRR22276225.fasta\n"
          ]
        }
      ],
      "source": [
        "# Inspect the working data directory\n",
        "ls -la"
      ]
    },
    {
      "cell_type": "code",
      "execution_count": null,
      "metadata": {
        "id": "4ut1cR4e0Mpr",
        "outputId": "1667b9d4-cce3-4e3c-8017-0ecea9976c83"
      },
      "outputs": [
        {
          "name": "stdout",
          "output_type": "stream",
          "text": [
            "/home/erin/lesson/installs/blastdb\n"
          ]
        }
      ],
      "source": [
        "# This is path to the local BLAST database. The variable $BLSTDB must be initialized. See the BLAST manual.\n",
        "echo $BLASTDB"
      ]
    },
    {
      "cell_type": "code",
      "execution_count": null,
      "metadata": {
        "id": "2ookDjVX0Mpr"
      },
      "outputs": [],
      "source": [
        "# We will use the program blastn from the BLAST programs suite\n",
        "# How to find out the parameters of the blastn\n",
        "# blastn -help"
      ]
    },
    {
      "cell_type": "markdown",
      "metadata": {
        "id": "_j40Yo320Mps"
      },
      "source": [
        "#### Blast one read"
      ]
    },
    {
      "cell_type": "code",
      "execution_count": null,
      "metadata": {
        "id": "sFi9xcT70Mps",
        "outputId": "54a77540-b8ed-4036-a8f8-bf1ac43e7378"
      },
      "outputs": [
        {
          "name": "stdout",
          "output_type": "stream",
          "text": [
            "BLASTN 2.14.1+\n",
            "\n",
            "\n",
            "Reference: Zheng Zhang, Scott Schwartz, Lukas Wagner, and Webb\n",
            "Miller (2000), \"A greedy algorithm for aligning DNA sequences\", J\n",
            "Comput Biol 2000; 7(1-2):203-14.\n",
            "\n",
            "\n",
            "\n",
            "Database: 16S ribosomal RNA (Bacteria and Archaea type strains)\n",
            "           26,910 sequences; 39,006,255 total letters\n",
            "\n",
            "\n",
            "\n",
            "Query= SRR22276225.1 1 length=339\n",
            "\n",
            "Length=339\n",
            "                                                                      Score     E\n",
            "Sequences producing significant alignments:                          (Bits)  Value\n",
            "\n",
            "NR_043061.1 Aminiphilus circumscriptus strain ILE-2 16S ribosomal...  161     2e-39\n",
            "NR_025106.1 Paenibacillus brasilensis strain PB1 72 16S ribosomal...  150     5e-36\n",
            "NR_133849.1 Rubrobacter aplysinae strain RV113 16S ribosomal RNA,...  111     2e-24\n",
            "\n",
            "\n",
            ">NR_043061.1 Aminiphilus circumscriptus strain ILE-2 16S ribosomal RNA, partial \n",
            "sequence\n",
            "Length=1416\n",
            "\n",
            " Score = 161 bits (87),  Expect = 2e-39\n",
            " Identities = 216/277 (78%), Gaps = 14/277 (5%)\n",
            " Strand=Plus/Plus\n",
            "\n",
            "Query  73   CCAGCCGCCGCGGTAATACGTAGGGGCGAGCGTTGTCCCGGAATTACTGGGCGT-AAGGG  131\n",
            "            ||||| |||||||||||||||||||||||||||||| ||||||| ||||||||| |||||\n",
            "Sbjct  477  CCAGCAGCCGCGGTAATACGTAGGGGCGAGCGTTGT-CCGGAATCACTGGGCGTAAAGGG  535\n",
            "\n",
            "Query  132  CACGCAGGCTGTGCTTCAAGTCAGCTGT-AAAGGATGCGGC-CG-CCGT-GTTATGCGGC  187\n",
            "            ||||||||| |  |  || |||   ||| |||||    ||| |  || | ||| ||||| \n",
            "Sbjct  536  CACGCAGGCGGACCGACAGGTCGTTTGTGAAAGGCGAGGGCTCAACCCTTGTT-TGCGGA  594\n",
            "\n",
            "Query  188  TGAGACTGAGGTGCTGGAGTACCGGAGGCAG-AGTGGAATTCCCAGTGTAGCGTT-AAAT  245\n",
            "             || || |  |  ||||||||||||||   | |||||||||||| |||||||| | ||||\n",
            "Sbjct  595  CGAAACCGTCGGACTGGAGTACCGGAGAGGGAAGTGGAATTCCCGGTGTAGCGGTGAAAT  654\n",
            "\n",
            "Query  246  GCGTAGATATTGGAA-GAACATCGGTGTCGAAGGCGACTTGC-GGACGGTAACTGACGCT  303\n",
            "            |||||||||| || | ||||| | ||| |||||||| ||| | || |||  |||||||||\n",
            "Sbjct  655  GCGTAGATATCGGGAGGAACACCAGTGGCGAAGGCGGCTTCCTGGCCGGATACTGACGCT  714\n",
            "\n",
            "Query  304  GAGATTTGCGAAAGCCTGGT-AGCAAACCGGATTAGA  339\n",
            "             | | | ||||||||  ||  ||| ||| ||||||||\n",
            "Sbjct  715  CA-AGT-GCGAAAGCTGGGGGAGCGAACGGGATTAGA  749\n",
            "\n",
            "\n",
            ">NR_025106.1 Paenibacillus brasilensis strain PB1 72 16S ribosomal RNA, partial \n",
            "sequence\n",
            "Length=1384\n",
            "\n",
            " Score = 150 bits (81),  Expect = 5e-36\n",
            " Identities = 220/284 (77%), Gaps = 21/284 (7%)\n",
            " Strand=Plus/Plus\n",
            "\n",
            "Query  70   GTGCCAGCCGCCGCGGTAATACGTA-GGGGCGAGCGTTGTCCCGGAATTACTGGGCGTAA  128\n",
            "            ||||||||||||||||||||||||| ||||| |||||||| ||||||||| |||||||||\n",
            "Sbjct  498  GTGCCAGCCGCCGCGGTAATACGTAGGGGGCAAGCGTTGT-CCGGAATTATTGGGCGTAA  556\n",
            "\n",
            "Query  129  GG-GCACGCAGGCTGTGCTTCAAGTCAGCTGTA-AAGGATGCGGC-CG-C--CGTGTTAT  182\n",
            "             | || ||||||| |  ||| ||||| | |||  ||    | ||| |  |  || ||   \n",
            "Sbjct  557  AGCGCGCGCAGGCGGCTCTTTAAGTCTGGTGTTTAATCCCGAGGCTCAACTTCGGGTC--  614\n",
            "\n",
            "Query  183  GCGGCT-GAGACTGAGGTGCTGGAGTACCG--GAGGCAGAGTGGAATTCCCAGTGTAGCG  239\n",
            "            ||  || || |||| || ||| |||| | |  |||| |||||||||||||  ||||||||\n",
            "Sbjct  615  GCA-CTGGAAACTGGGGAGCTTGAGTGCAGAAGAGG-AGAGTGGAATTCCACGTGTAGCG  672\n",
            "\n",
            "Query  240  TT-AAATGCGTAGATAT-TGGAAGAACATCGGTGTCGAAGGCGACTTGC-GGACGGTAAC  296\n",
            "             | ||||||||||| || |||| ||||| | ||| |||||||||||  | || | |||||\n",
            "Sbjct  673  GTGAAATGCGTAGAGATGTGGAGGAACACCAGTGGCGAAGGCGACTCTCTGGGCTGTAAC  732\n",
            "\n",
            "Query  297  TGACGCTGAGATTTGCGAAAGCCTGGT-AGCAAACCGGATTAGA  339\n",
            "            ||||||||||    |||||||| |||  ||||||| ||||||||\n",
            "Sbjct  733  TGACGCTGAGGC--GCGAAAGCGTGGGGAGCAAACAGGATTAGA  774\n",
            "\n",
            "\n",
            ">NR_133849.1 Rubrobacter aplysinae strain RV113 16S ribosomal RNA, partial \n",
            "sequence\n",
            "Length=1512\n",
            "\n",
            " Score = 111 bits (60),  Expect = 2e-24\n",
            " Identities = 212/283 (75%), Gaps = 19/283 (7%)\n",
            " Strand=Plus/Plus\n",
            "\n",
            "Query  70   GTGCCAGCCGCCGCGGTAATACGTAGGGGCGAGCGTTGTCCCGGAATTACTGGGCGT-AA  128\n",
            "            |||||||| |||||||||||||||||||||||||||||| ||||||||| ||||||| ||\n",
            "Sbjct  509  GTGCCAGCAGCCGCGGTAATACGTAGGGGCGAGCGTTGT-CCGGAATTATTGGGCGTAAA  567\n",
            "\n",
            "Query  129  GGGCACGCAGGCTGTGCTTC--AAGTCAGCTGT-AAAGGATGCGGC-CG-CCGT-GTTAT  182\n",
            "            |||| || |||| | ||||   ||||| ||||| |||   || ||| |  ||       |\n",
            "Sbjct  568  GGGCGCGTAGGC-G-GCTTGGTAAGTCTGCTGTGAAACCTTGGGGCTCAACCCCAAGCGT  625\n",
            "\n",
            "Query  183  GCGGCTGAGACTGAGGTGCTGGAGTACCG--GAGGCAGAGTGGAATTCCCAGTGTAGCGT  240\n",
            "            || |  || ||||    ||| ||| |  |  |||||  |||||||||||| |||||||| \n",
            "Sbjct  626  GCAGTGGATACTGTCAAGCTAGAGGATGGTAGAGGCC-AGTGGAATTCCCGGTGTAGCGG  684\n",
            "\n",
            "Query  241  T-AAATGCGTAGATATTGGAAG-AACATCGGTGTCGAAGGCGACTTGC-GGACGGTAACT  297\n",
            "            | ||||||| |||||| || || |||| | ||  |||||||| || || || |  |  ||\n",
            "Sbjct  685  TGAAATGCGCAGATATCGGGAGGAACACCAGTAGCGAAGGCGGCTGGCTGGGCCATTCCT  744\n",
            "\n",
            "Query  298  GACGCTGAGATTTGCGAAAGCCTGGT-AGCAAACCGGATTAGA  339\n",
            "            |||||||||    |||||||| |||  ||| ||| ||||||||\n",
            "Sbjct  745  GACGCTGAGGC--GCGAAAGCATGGGGAGCGAACAGGATTAGA  785\n",
            "\n",
            "\n",
            "\n",
            "Lambda      K        H\n",
            "    1.33    0.621     1.12 \n",
            "\n",
            "Gapped\n",
            "Lambda      K        H\n",
            "    1.28    0.460    0.850 \n",
            "\n",
            "Effective search space used: 12083530725\n",
            "\n",
            "\n",
            "  Database: 16S ribosomal RNA (Bacteria and Archaea type strains)\n",
            "    Posted date:  Oct 21, 2023  5:36 AM\n",
            "  Number of letters in database: 39,006,255\n",
            "  Number of sequences in database:  26,910\n",
            "\n",
            "\n",
            "\n",
            "Matrix: blastn matrix 1 -2\n",
            "Gap Penalties: Existence: 0, Extension: 2.5\n"
          ]
        }
      ],
      "source": [
        "# BLAST - Basic Local Aligment Search Tool\n",
        "# It searches for matches in the sequence database for the organism sequences matching the unknown sequence in our read\n",
        "# It returns many possible alignments ranked by the evalue, that is similar to the p-value estimating the probability of chance alignment\n",
        "blastn -db 16S_ribosomal_RNA -query read1.fasta"
      ]
    },
    {
      "cell_type": "code",
      "execution_count": null,
      "metadata": {
        "id": "5hyEEbQH0Mps",
        "outputId": "39d4db2b-96f8-457b-d42c-fe9feae54d11"
      },
      "outputs": [
        {
          "name": "stdout",
          "output_type": "stream",
          "text": [
            "SRR22276225.1\tAminiphilus circumscriptus\t339\tNR_043061\t1416\t2.41e-39\t77.978\t79\t277\n",
            "SRR22276225.1\tPaenibacillus brasilensis\t339\tNR_025106\t1384\t5.22e-36\t77.465\t80\t284\n",
            "SRR22276225.1\tRubrobacter aplysinae\t339\tNR_133849\t1512\t2.46e-24\t74.912\t80\t283\n"
          ]
        }
      ],
      "source": [
        "# Different compact format of BLAST output\n",
        "blastn -max_target_seqs 5 -db 16S_ribosomal_RNA -query read1.fasta -outfmt \"6 qseqid ssciname qlen sacc slen evalue pident qcovs length\""
      ]
    },
    {
      "cell_type": "code",
      "execution_count": null,
      "metadata": {
        "id": "hyMSUndH0Mps",
        "outputId": "08e25f09-2be0-420f-cac7-8c86b60d3fbc"
      },
      "outputs": [
        {
          "name": "stdout",
          "output_type": "stream",
          "text": [
            "Warning: [blastn] Examining 5 or more matches is recommended\n",
            "\n"
          ]
        }
      ],
      "source": [
        "# Query all reads in the downloaded fasta file\n",
        "# This operation may take a long minutes. You are allowed to stop the cell\n",
        "# The output of BLAST is written to a file named blast_output\n",
        "# Blastn -help to find out about parameters\n",
        "blastn -max_hsps 1 -perc_identity 0.99  -qcov_hsp_perc 0.98  -max_target_seqs 3 -db 16S_ribosomal_RNA -query SRR22276225.fasta -outfmt \"6 qseqid ssciname qlen sacc slen evalue pident qcovs\" -out blast_output"
      ]
    },
    {
      "cell_type": "code",
      "execution_count": null,
      "metadata": {
        "id": "RtorJY2v0Mps",
        "outputId": "6bb884f4-a5b5-4e4d-d1d5-dd4eaa7fb128"
      },
      "outputs": [
        {
          "name": "stdout",
          "output_type": "stream",
          "text": [
            "SRR22276225.1\tAminiphilus circumscriptus\t339\tNR_043061\t1416\t2.41e-39\t77.978\t79\n",
            "SRR22276225.1\tPaenibacillus brasilensis\t339\tNR_025106\t1384\t5.22e-36\t77.465\t80\n",
            "SRR22276225.1\tRubrobacter aplysinae\t339\tNR_133849\t1512\t2.46e-24\t74.912\t80\n",
            "SRR22276225.2\tFusobacterium nucleatum subsp. nucleatum ATCC 25586\t357\tNR_114702\t1479\t3.81e-117\t93.197\t80\n",
            "SRR22276225.2\tFusobacterium nucleatum subsp. nucleatum ATCC 25586\t357\tNR_074412\t1502\t3.81e-117\t93.197\t80\n",
            "SRR22276225.2\tFusobacterium nucleatum subsp. nucleatum ATCC 25586\t357\tNR_117287\t1442\t3.81e-117\t93.197\t80\n",
            "SRR22276225.3\tFusobacterium polymorphum ATCC 10953\t248\tNR_117842\t1380\t7.52e-83\t98.286\t70\n",
            "SRR22276225.3\tFusobacterium vincentii ATCC 51190\t248\tNR_117841\t1400\t7.52e-83\t98.286\t70\n",
            "SRR22276225.3\tFusobacterium nucleatum subsp. nucleatum ATCC 25586\t248\tNR_114702\t1479\t7.52e-83\t98.286\t70\n",
            "SRR22276225.4\tFusobacterium nucleatum subsp. nucleatum ATCC 25586\t529\tNR_114702\t1479\t5.38e-167\t92.683\t77\n",
            "SRR22276225.4\tFusobacterium nucleatum subsp. nucleatum ATCC 25586\t529\tNR_074412\t1502\t5.38e-167\t92.683\t77\n",
            "SRR22276225.4\tFusobacterium polymorphum ATCC 10953\t529\tNR_117288\t1428\t5.38e-167\t92.683\t77\n",
            "SRR22276225.5\tFusobacterium vincentii ATCC 51190\t537\tNR_117841\t1400\t0.0\t97.826\t76\n",
            "SRR22276225.5\tFusobacterium nucleatum subsp. nucleatum ATCC 25586\t537\tNR_114702\t1479\t0.0\t97.826\t76\n",
            "SRR22276225.5\tFusobacterium nucleatum subsp. nucleatum ATCC 25586\t537\tNR_074412\t1502\t0.0\t97.826\t76\n",
            "SRR22276225.6\tFusobacterium vincentii ATCC 51190\t540\tNR_117841\t1400\t0.0\t96.069\t75\n",
            "SRR22276225.6\tFusobacterium nucleatum subsp. nucleatum ATCC 25586\t540\tNR_114702\t1479\t0.0\t96.069\t75\n",
            "SRR22276225.6\tFusobacterium nucleatum subsp. nucleatum ATCC 25586\t540\tNR_074412\t1502\t0.0\t96.069\t75\n",
            "SRR22276225.7\tFusobacterium nucleatum subsp. nucleatum ATCC 25586\t410\tNR_114702\t1479\t3.36e-128\t95.189\t70\n",
            "SRR22276225.7\tFusobacterium nucleatum subsp. nucleatum ATCC 25586\t410\tNR_074412\t1502\t3.36e-128\t95.189\t70\n"
          ]
        }
      ],
      "source": [
        "# Examine the BLAST output in the file blast_output\n",
        "head -n20 blast_output"
      ]
    },
    {
      "cell_type": "code",
      "execution_count": null,
      "metadata": {
        "id": "iCGo6E9S0Mps",
        "outputId": "3e388f0b-f2de-47fa-bec4-dac26d850500"
      },
      "outputs": [
        {
          "name": "stdout",
          "output_type": "stream",
          "text": [
            "SRR22276203.1\tDermabacter vaginalis\t526\tNR_148832\t1450\t9.53e-120\t87.129\t72\n",
            "SRR22276203.1\tDermabacter jinjuensis\t526\tNR_149775\t1390\t9.60e-115\t86.386\t72\n",
            "SRR22276203.1\tDermabacter hominis\t526\tNR_026271\t1511\t9.60e-115\t86.386\t72\n",
            "SRR22276203.2\tBrachybacterium faecium DSM 4810\t411\tNR_074655\t1520\t1.22e-122\t93.939\t70\n",
            "SRR22276203.2\tBrachybacterium massiliense\t411\tNR_179438\t1483\t1.22e-122\t93.939\t70\n",
            "SRR22276203.2\tBrachybacterium faecium DSM 4810\t411\tNR_119205\t1513\t1.22e-122\t93.939\t70\n",
            "SRR22276203.4\tBrachybacterium aquaticum\t281\tNR_152653\t1423\t1.43e-85\t93.897\t74\n",
            "SRR22276203.4\tBrachybacterium paraconglomeratum\t281\tNR_025502\t1472\t1.43e-85\t93.897\t74\n",
            "SRR22276203.4\tBrachybacterium alimentarium\t281\tNR_026269\t1512\t1.43e-85\t93.897\t74\n",
            "SRR22276203.5\tBrachybacterium paraconglomeratum\t465\tNR_025502\t1472\t1.32e-162\t92.611\t85\n"
          ]
        }
      ],
      "source": [
        "# Examine the output that blast program created\n",
        "# This output is a snapshot from a different sample"
      ]
    },
    {
      "cell_type": "markdown",
      "metadata": {
        "id": "YYJfoHwL0Mpx"
      },
      "source": [
        "#### Quantification of species\n",
        "#### Think of , YOU DON'T HAVE TO IMPLEMENT IT, an algorithm and Pyhon code that you may write to quantify species in the BLAST results.\n",
        "\n",
        "# Computational Laboratory Task:\n",
        "### Make a necessary setup on your local machine\n",
        "### Obtain sample_3 from the Short Reads Archive and make a query for all sequences against BLAST 16S_ribosomal_RNA database as in cell [35]\n",
        "### Display 30 results from the file\n",
        "### Answer a question: Approximately what percent identity and alignment lengths you see in these results?  "
      ]
    },
    {
      "cell_type": "markdown",
      "metadata": {
        "id": "view-in-github"
      },
      "source": [
        "<a href=\"https://colab.research.google.com/github/erinijapranckeviciene/MLdata/blob/main/Blobs_data.ipynb\" target=\"_parent\"><img src=\"https://colab.research.google.com/assets/colab-badge.svg\" alt=\"Open In Colab\"/></a>"
      ]
    },
    {
      "cell_type": "code",
      "execution_count": null,
      "metadata": {
        "id": "N_VdWY6FcJlA"
      },
      "outputs": [],
      "source": [
        "# what steps you would take to count how many organisms matched the query and in what abundance\n",
        "# You can use Python to write a small script\n",
        "import numpy as np\n",
        "import pandas pd\n"
      ]
    }
  ],
  "metadata": {
    "colab": {
      "provenance": [],
      "include_colab_link": true
    },
    "kernelspec": {
      "display_name": "Bash",
      "language": "bash",
      "name": "bash"
    },
    "language_info": {
      "codemirror_mode": "shell",
      "file_extension": ".sh",
      "mimetype": "text/x-sh",
      "name": "bash"
    }
  },
  "nbformat": 4,
  "nbformat_minor": 0
}